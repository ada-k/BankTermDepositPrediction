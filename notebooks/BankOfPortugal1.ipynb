{
 "cells": [
  {
   "cell_type": "markdown",
   "metadata": {
    "colab_type": "text",
    "id": "_pMM-Fqw2DcH"
   },
   "source": [
    "## Table of Contents\n",
    "\n",
    "\n",
    "1. [Libraries](#1-Libraries)\n",
    "2. [Data + Preprocessing](#2-Data-+-Preprocessing)\n",
    "3. [Dimensionality Reduction](#)\n",
    "\n",
    "  3.1 [PCA](#)\n",
    "\n",
    "  3.2 [TSNE](#)\n",
    "\n",
    "  3.3 [AUTOENCODERS](#)\n",
    "\n",
    "4. [Train, Validation and Test setss](#)\n",
    "5. [Modeling](#)\n",
    "\n",
    "  5.1 [Linear Models](#)\n",
    "\n",
    "  5.2 [Boosters](#)\n",
    "\n",
    "  5.3 [Neural Nets](#)\n",
    "\n",
    "  5.4 [Ensemble based Models](#)\n",
    "\n",
    "  5.5 [Naive Bayes](#)\n",
    "\n",
    "  5.6 [Stacked Model](#)\n",
    "\n",
    "  5.7 [Support Vector Machines (rbf, poly, linear)]()\n",
    "\n",
    "6. [Evaluation](#)\n",
    "\n",
    "  6.1 [ROC](#)\n",
    "\n",
    "  6.2 [FI SCORE](#)\n",
    "\n",
    "  6.3 [PRECISION AND RECALL](#)\n",
    "\n",
    "\n",
    "**PS**: The EDA plots can be found [here.](https://dub01.online.tableau.com/#/site/multipleviews/views/BankOfPortugalDemo/Story1/adakibetj@protonmail.com/9f28009e-ae9c-4c3c-97b6-1048156cadbf?:display_count=n&:showVizHome=n&:origin=viz_share_link&:iid=1) \n",
    "\n",
    "\n"
   ]
  },
  {
   "cell_type": "markdown",
   "metadata": {
    "colab_type": "text",
    "id": "JjQ83W5dcpv3"
   },
   "source": [
    "## 1 Libraries"
   ]
  },
  {
   "cell_type": "code",
   "execution_count": null,
   "metadata": {
    "colab": {
     "base_uri": "https://localhost:8080/",
     "height": 350
    },
    "colab_type": "code",
    "id": "d2h5CWRwuQ8X",
    "outputId": "c5298ff8-97f1-4f13-9bd8-51d8b4125f55"
   },
   "outputs": [
    {
     "name": "stdout",
     "output_type": "stream",
     "text": [
      "Collecting catboost\n",
      "\u001b[?25l  Downloading https://files.pythonhosted.org/packages/90/86/c3dcb600b4f9e7584ed90ea9d30a717fb5c0111574675f442c3e7bc19535/catboost-0.24.1-cp36-none-manylinux1_x86_64.whl (66.1MB)\n",
      "\u001b[K     |████████████████████████████████| 66.1MB 61kB/s \n",
      "\u001b[?25hRequirement already satisfied: plotly in /usr/local/lib/python3.6/dist-packages (from catboost) (4.4.1)\n",
      "Requirement already satisfied: graphviz in /usr/local/lib/python3.6/dist-packages (from catboost) (0.10.1)\n",
      "Requirement already satisfied: pandas>=0.24.0 in /usr/local/lib/python3.6/dist-packages (from catboost) (1.0.5)\n",
      "Requirement already satisfied: matplotlib in /usr/local/lib/python3.6/dist-packages (from catboost) (3.2.2)\n",
      "Requirement already satisfied: numpy>=1.16.0 in /usr/local/lib/python3.6/dist-packages (from catboost) (1.18.5)\n",
      "Requirement already satisfied: six in /usr/local/lib/python3.6/dist-packages (from catboost) (1.15.0)\n",
      "Requirement already satisfied: scipy in /usr/local/lib/python3.6/dist-packages (from catboost) (1.4.1)\n",
      "Requirement already satisfied: retrying>=1.3.3 in /usr/local/lib/python3.6/dist-packages (from plotly->catboost) (1.3.3)\n",
      "Requirement already satisfied: pytz>=2017.2 in /usr/local/lib/python3.6/dist-packages (from pandas>=0.24.0->catboost) (2018.9)\n",
      "Requirement already satisfied: python-dateutil>=2.6.1 in /usr/local/lib/python3.6/dist-packages (from pandas>=0.24.0->catboost) (2.8.1)\n",
      "Requirement already satisfied: kiwisolver>=1.0.1 in /usr/local/lib/python3.6/dist-packages (from matplotlib->catboost) (1.2.0)\n",
      "Requirement already satisfied: cycler>=0.10 in /usr/local/lib/python3.6/dist-packages (from matplotlib->catboost) (0.10.0)\n",
      "Requirement already satisfied: pyparsing!=2.0.4,!=2.1.2,!=2.1.6,>=2.0.1 in /usr/local/lib/python3.6/dist-packages (from matplotlib->catboost) (2.4.7)\n",
      "Installing collected packages: catboost\n",
      "Successfully installed catboost-0.24.1\n"
     ]
    }
   ],
   "source": [
    "# Linear algebra + data processing\n",
    "import pandas as pd\n",
    "import numpy as np\n",
    "\n",
    "# visualisation\n",
    "import seaborn as sns\n",
    "%matplotlib inline\n",
    "import matplotlib.pyplot as plt\n",
    "from mpl_toolkits.mplot3d import Axes3D\n",
    "\n",
    "# preprocessing \n",
    "from sklearn.impute import SimpleImputer\n",
    "from sklearn.preprocessing import LabelEncoder, OneHotEncoder, StandardScaler, RobustScaler\n",
    "from sklearn.pipeline import Pipeline, make_pipeline\n",
    "from sklearn.utils import resample\n",
    "from sklearn.decomposition import PCA\n",
    "from sklearn.manifold import TSNE\n",
    "from keras.models import Model, load_model\n",
    "from keras.layers import Input, Dense\n",
    "from keras.callbacks import ModelCheckpoint, TensorBoard\n",
    "from keras import regularizers\n",
    "\n",
    "\n",
    "# statistics\n",
    "from scipy import stats\n",
    "from scipy.stats import skew, norm\n",
    "from statistics import mean \n",
    "\n",
    "# models + accuracy metrics\n",
    "from sklearn.linear_model import LogisticRegression\n",
    "from xgboost import XGBRegressor\n",
    "from sklearn.ensemble import RandomForestClassifier, GradientBoostingRegressor\n",
    "from sklearn.model_selection import KFold, cross_val_score, train_test_split\n",
    "from sklearn.metrics import mean_squared_error, mean_absolute_error\n",
    "from sklearn.svm import SVC, LinearSVC\n",
    "from sklearn.neural_network import MLPClassifier\n",
    "from sklearn.model_selection import learning_curve, GridSearchCV, StratifiedKFold\n",
    "from xgboost import XGBClassifier\n",
    "!pip install catboost\n",
    "from catboost import CatBoostClassifier\n",
    "from sklearn.ensemble import AdaBoostClassifier\n",
    "from sklearn.ensemble import RandomForestClassifier\n",
    "from sklearn.naive_bayes import GaussianNB\n",
    "from sklearn.base import BaseEstimator, TransformerMixin, RegressorMixin, clone\n",
    "from lightgbm import LGBMClassifier\n",
    "\n",
    "\n",
    "# evaluation\n",
    "from sklearn.metrics import average_precision_score, auc, roc_curve, precision_recall_curve\n",
    "from sklearn.metrics import precision_recall_curve\n",
    "from sklearn.metrics import roc_auc_score, roc_curve, auc, f1_score\n",
    "from sklearn.metrics import precision_recall_fscore_support as score\n",
    "\n",
    "# saving models\n",
    "import pickle\n",
    "import gzip\n",
    "\n",
    "# others\n",
    "import time\n",
    "\n",
    "# ignore warnings\n",
    "import warnings\n",
    "warnings.filterwarnings(action=\"ignore\")"
   ]
  },
  {
   "cell_type": "markdown",
   "metadata": {
    "colab_type": "text",
    "id": "GJqu8bj_264x"
   },
   "source": [
    "## 2 Data + Preprocessing\n",
    "\n",
    "\n",
    "* Involves reading the csv file containing the dataset.  The dataset has the following features: \n",
    "\n",
    "  *  *categorical*: **age, job, marital, education, default, housing, loan, contact, month, day_of_week and poutcome.**\n",
    "\n",
    "  *  *numerical (discrete + continous)*: **duration, campaign, pdays, previous, emp.var.rate, cons.price.idx, cons.conf.idx, euribor3m and nr.employed.**\n",
    "\n",
    "  * *target*:  **y**(term deposit subscription).\n",
    "\n",
    "\n",
    "* The preprocessing involves the following steps:\n",
    "  * Imputing null values.\n",
    "  * Correcting outliers.\n",
    "  * Feature Generation.\n",
    "  * Scaling numerical variables.\n",
    "  * Encoding categorical variables.\n",
    "  * Resampling the unbalanced dataset.\n",
    "\n",
    "* And finally we drop the **duration** column and all the features generated from it to avoid data leakage."
   ]
  },
  {
   "cell_type": "code",
   "execution_count": null,
   "metadata": {
    "colab": {},
    "colab_type": "code",
    "id": "em-lZlEjy1gu"
   },
   "outputs": [],
   "source": [
    "# read and process data\n",
    "class DataPrep():\n",
    "\n",
    "  # read the data\n",
    "  def read_data(self, path):\n",
    "    data = pd.read_csv(path, sep = ';')\n",
    "    return data\n",
    "\n",
    "  # preprocessing\n",
    "  # def preprocess_data(self, data):\n",
    "    # categorical + numerical + timestamp columns\n",
    "\n",
    "  def treat_null(self, data):\n",
    "    global categorical, discrete, continous, cols\n",
    "    categorical = []\n",
    "    discrete = []\n",
    "    continous = []\n",
    "    for col in data.columns:\n",
    "      if data[col].dtype == object:\n",
    "        categorical.append(col)\n",
    "      elif data[col].dtype in ['int16', 'int32', 'int64']:\n",
    "        discrete.append(col)\n",
    "      elif data[col].dtype in ['float16', 'float32', 'float64']:\n",
    "        continous.append(col)\n",
    "\n",
    "    cols = discrete + categorical + continous\n",
    "    data = data[cols]\n",
    "\n",
    "    # null values\n",
    "    # data = preprocess_data(data)\n",
    "    indices = []\n",
    "    for col in cols:\n",
    "      k = data.columns.get_loc(col)\n",
    "      indices.append(k)\n",
    "\n",
    "    for col in indices:\n",
    "      if data.columns[col] in discrete:\n",
    "        x = data.iloc[:, col].values\n",
    "        x = x.reshape(-1,1)\n",
    "        imputer = SimpleImputer(missing_values=np.nan, strategy='median')\n",
    "        imputer = imputer.fit(x)\n",
    "        x = imputer.transform(x)\n",
    "        data.iloc[:, col] = x\n",
    "\n",
    "      if data.columns[col] in continous:\n",
    "        x = data.iloc[:, col].values\n",
    "        x = x.reshape(-1,1)\n",
    "        imputer = SimpleImputer(missing_values=np.nan, strategy='mean')\n",
    "        imputer = imputer.fit(x)\n",
    "        x = imputer.transform(x)\n",
    "        data.iloc[:, col] = x\n",
    "\n",
    "      elif data.columns[col] in categorical:\n",
    "        x = data.iloc[:, col].values\n",
    "        x = x.reshape(-1,1)\n",
    "        imputer = SimpleImputer(missing_values=np.nan, strategy='most_frequent')\n",
    "        imputer = imputer.fit(x)\n",
    "        x = imputer.transform(x)\n",
    "        data.iloc[:, col] = x     \n",
    "\n",
    "    return data\n",
    "\n",
    "  # outlier detection + treatment\n",
    "  def outlier_correcter(self, data):\n",
    "    # data = treat_null(data)\n",
    "    for col in discrete + continous:\n",
    "      data[col] = data[col].clip(lower=data[col].quantile(0.10), upper=data[col].quantile(0.90))\n",
    "    return data\n",
    "\n",
    "  # feature generation\n",
    "  def generate_features(self, data):\n",
    "    data['both_loans'] = 0 #default to 0\n",
    "    data.loc[data['housing'] == 'yes', 'both_loans'] = 1\n",
    "    data.loc[data['loan'] == 'no', 'both_loans'] = 1 # change to 1 if one has both loans\n",
    "    data['total_contacts'] = data['campaign'] + data['previous']\n",
    "\n",
    "    def squares(data, ls):\n",
    "        m = data.shape[1]\n",
    "        for l in ls:\n",
    "            # data = data.assign(newcol=pd.Series(np.log(1.01+data[l])).values)\n",
    "            data = data.assign(newcol=pd.Series(data[l]*data[l]).values)    \n",
    "            data.columns.values[m] = l + '_sq'\n",
    "            m += 1\n",
    "        return data\n",
    "\n",
    "    log_features = ['duration', 'cons.price.idx', 'emp.var.rate', 'cons.conf.idx', 'euribor3m']\n",
    "\n",
    "    data = squares(data, log_features)\n",
    "\n",
    "    return data\n",
    "\n",
    "  # scaling numerical\n",
    "  def scaler(self, data):\n",
    "    # data = outlier_correcter(data)\n",
    "    indices = []\n",
    "    for col in discrete + continous + ['total_contacts', 'duration_sq', 'cons.price.idx_sq', 'emp.var.rate_sq', 'cons.conf.idx_sq', 'euribor3m_sq']:\n",
    "      k = data.columns.get_loc(col)\n",
    "      indices.append(k)\n",
    "\n",
    "      for col in indices:\n",
    "        x = data.iloc[:, col].values\n",
    "        x = x.reshape(-1,1)\n",
    "        imputer = StandardScaler()\n",
    "        imputer = imputer.fit(x)\n",
    "        x = imputer.transform(x)\n",
    "        data.iloc[:, col] = x  \n",
    "\n",
    "    return data\n",
    "\n",
    "  # encoding categorical\n",
    "  def encoder(self, data):\n",
    "    # data = scaler(data)\n",
    "    cols = categorical.copy()\n",
    "    cols.remove('y')\n",
    "    data = pd.get_dummies(data, columns = cols)\n",
    "    return data\n",
    "\n",
    "  # class imbalance\n",
    "  def over_sample(self, data):\n",
    "    # data = scaler(data)\n",
    "    subscribers = data[data.y == 'yes']\n",
    "    non_subscribers = data[data.y == 'no']\n",
    "\n",
    "    subscribers_upsampled = resample(subscribers, replace=True, # sample with replacement\n",
    "                        n_samples = len(non_subscribers), # match number in majority class\n",
    "                        random_state = 42) # reproducible results\n",
    "\n",
    "    data = pd.concat([subscribers_upsampled, non_subscribers])\n",
    "    return data"
   ]
  },
  {
   "cell_type": "code",
   "execution_count": null,
   "metadata": {
    "colab": {
     "base_uri": "https://localhost:8080/",
     "height": 330
    },
    "colab_type": "code",
    "id": "Na_AfNEWPiF9",
    "outputId": "27eebe94-f887-4052-cadc-548993c7f4e5"
   },
   "outputs": [
    {
     "name": "stdout",
     "output_type": "stream",
     "text": [
      "Original shape: (41188, 21)\n",
      "After feature generation: (41188, 28)\n",
      "After scaling: (41188, 28)\n",
      "After encoding: (41188, 71)\n",
      "After resampling: (73096, 71)\n"
     ]
    },
    {
     "data": {
      "text/html": [
       "<div>\n",
       "<style scoped>\n",
       "    .dataframe tbody tr th:only-of-type {\n",
       "        vertical-align: middle;\n",
       "    }\n",
       "\n",
       "    .dataframe tbody tr th {\n",
       "        vertical-align: top;\n",
       "    }\n",
       "\n",
       "    .dataframe thead th {\n",
       "        text-align: right;\n",
       "    }\n",
       "</style>\n",
       "<table border=\"1\" class=\"dataframe\">\n",
       "  <thead>\n",
       "    <tr style=\"text-align: right;\">\n",
       "      <th></th>\n",
       "      <th>age</th>\n",
       "      <th>duration</th>\n",
       "      <th>campaign</th>\n",
       "      <th>pdays</th>\n",
       "      <th>previous</th>\n",
       "      <th>y</th>\n",
       "      <th>emp.var.rate</th>\n",
       "      <th>cons.price.idx</th>\n",
       "      <th>cons.conf.idx</th>\n",
       "      <th>euribor3m</th>\n",
       "      <th>nr.employed</th>\n",
       "      <th>both_loans</th>\n",
       "      <th>total_contacts</th>\n",
       "      <th>duration_sq</th>\n",
       "      <th>cons.price.idx_sq</th>\n",
       "      <th>emp.var.rate_sq</th>\n",
       "      <th>cons.conf.idx_sq</th>\n",
       "      <th>euribor3m_sq</th>\n",
       "      <th>job_admin.</th>\n",
       "      <th>job_blue-collar</th>\n",
       "      <th>job_entrepreneur</th>\n",
       "      <th>job_housemaid</th>\n",
       "      <th>job_management</th>\n",
       "      <th>job_retired</th>\n",
       "      <th>job_self-employed</th>\n",
       "      <th>job_services</th>\n",
       "      <th>job_student</th>\n",
       "      <th>job_technician</th>\n",
       "      <th>job_unemployed</th>\n",
       "      <th>job_unknown</th>\n",
       "      <th>marital_divorced</th>\n",
       "      <th>marital_married</th>\n",
       "      <th>marital_single</th>\n",
       "      <th>marital_unknown</th>\n",
       "      <th>education_basic.4y</th>\n",
       "      <th>education_basic.6y</th>\n",
       "      <th>education_basic.9y</th>\n",
       "      <th>education_high.school</th>\n",
       "      <th>education_illiterate</th>\n",
       "      <th>education_professional.course</th>\n",
       "      <th>education_university.degree</th>\n",
       "      <th>education_unknown</th>\n",
       "      <th>default_no</th>\n",
       "      <th>default_unknown</th>\n",
       "      <th>default_yes</th>\n",
       "      <th>housing_no</th>\n",
       "      <th>housing_unknown</th>\n",
       "      <th>housing_yes</th>\n",
       "      <th>loan_no</th>\n",
       "      <th>loan_unknown</th>\n",
       "      <th>loan_yes</th>\n",
       "      <th>contact_cellular</th>\n",
       "      <th>contact_telephone</th>\n",
       "      <th>month_apr</th>\n",
       "      <th>month_aug</th>\n",
       "      <th>month_dec</th>\n",
       "      <th>month_jul</th>\n",
       "      <th>month_jun</th>\n",
       "      <th>month_mar</th>\n",
       "      <th>month_may</th>\n",
       "      <th>month_nov</th>\n",
       "      <th>month_oct</th>\n",
       "      <th>month_sep</th>\n",
       "      <th>day_of_week_fri</th>\n",
       "      <th>day_of_week_mon</th>\n",
       "      <th>day_of_week_thu</th>\n",
       "      <th>day_of_week_tue</th>\n",
       "      <th>day_of_week_wed</th>\n",
       "      <th>poutcome_failure</th>\n",
       "      <th>poutcome_nonexistent</th>\n",
       "      <th>poutcome_success</th>\n",
       "    </tr>\n",
       "  </thead>\n",
       "  <tbody>\n",
       "    <tr>\n",
       "      <th>19199</th>\n",
       "      <td>-0.646903</td>\n",
       "      <td>1.434226</td>\n",
       "      <td>0.590509</td>\n",
       "      <td>0.0</td>\n",
       "      <td>-0.397706</td>\n",
       "      <td>yes</td>\n",
       "      <td>0.868654</td>\n",
       "      <td>-0.295178</td>\n",
       "      <td>1.188444</td>\n",
       "      <td>0.777755</td>\n",
       "      <td>0.919962</td>\n",
       "      <td>1</td>\n",
       "      <td>0.486389</td>\n",
       "      <td>1.346195</td>\n",
       "      <td>-0.297736</td>\n",
       "      <td>-0.067174</td>\n",
       "      <td>-1.165015</td>\n",
       "      <td>0.815098</td>\n",
       "      <td>0</td>\n",
       "      <td>0</td>\n",
       "      <td>0</td>\n",
       "      <td>0</td>\n",
       "      <td>0</td>\n",
       "      <td>0</td>\n",
       "      <td>0</td>\n",
       "      <td>0</td>\n",
       "      <td>0</td>\n",
       "      <td>1</td>\n",
       "      <td>0</td>\n",
       "      <td>0</td>\n",
       "      <td>0</td>\n",
       "      <td>0</td>\n",
       "      <td>1</td>\n",
       "      <td>0</td>\n",
       "      <td>0</td>\n",
       "      <td>0</td>\n",
       "      <td>0</td>\n",
       "      <td>0</td>\n",
       "      <td>0</td>\n",
       "      <td>0</td>\n",
       "      <td>1</td>\n",
       "      <td>0</td>\n",
       "      <td>1</td>\n",
       "      <td>0</td>\n",
       "      <td>0</td>\n",
       "      <td>0</td>\n",
       "      <td>0</td>\n",
       "      <td>1</td>\n",
       "      <td>0</td>\n",
       "      <td>0</td>\n",
       "      <td>1</td>\n",
       "      <td>1</td>\n",
       "      <td>0</td>\n",
       "      <td>0</td>\n",
       "      <td>1</td>\n",
       "      <td>0</td>\n",
       "      <td>0</td>\n",
       "      <td>0</td>\n",
       "      <td>0</td>\n",
       "      <td>0</td>\n",
       "      <td>0</td>\n",
       "      <td>0</td>\n",
       "      <td>0</td>\n",
       "      <td>0</td>\n",
       "      <td>0</td>\n",
       "      <td>0</td>\n",
       "      <td>0</td>\n",
       "      <td>1</td>\n",
       "      <td>0</td>\n",
       "      <td>1</td>\n",
       "      <td>0</td>\n",
       "    </tr>\n",
       "    <tr>\n",
       "      <th>39490</th>\n",
       "      <td>1.718737</td>\n",
       "      <td>-0.034880</td>\n",
       "      <td>-0.141306</td>\n",
       "      <td>0.0</td>\n",
       "      <td>2.514421</td>\n",
       "      <td>yes</td>\n",
       "      <td>-1.396626</td>\n",
       "      <td>0.280422</td>\n",
       "      <td>1.188444</td>\n",
       "      <td>-1.533388</td>\n",
       "      <td>-1.624103</td>\n",
       "      <td>1</td>\n",
       "      <td>0.486389</td>\n",
       "      <td>-0.282567</td>\n",
       "      <td>0.277789</td>\n",
       "      <td>1.247132</td>\n",
       "      <td>-1.165015</td>\n",
       "      <td>-1.448870</td>\n",
       "      <td>0</td>\n",
       "      <td>0</td>\n",
       "      <td>0</td>\n",
       "      <td>1</td>\n",
       "      <td>0</td>\n",
       "      <td>0</td>\n",
       "      <td>0</td>\n",
       "      <td>0</td>\n",
       "      <td>0</td>\n",
       "      <td>0</td>\n",
       "      <td>0</td>\n",
       "      <td>0</td>\n",
       "      <td>0</td>\n",
       "      <td>1</td>\n",
       "      <td>0</td>\n",
       "      <td>0</td>\n",
       "      <td>1</td>\n",
       "      <td>0</td>\n",
       "      <td>0</td>\n",
       "      <td>0</td>\n",
       "      <td>0</td>\n",
       "      <td>0</td>\n",
       "      <td>0</td>\n",
       "      <td>0</td>\n",
       "      <td>1</td>\n",
       "      <td>0</td>\n",
       "      <td>0</td>\n",
       "      <td>1</td>\n",
       "      <td>0</td>\n",
       "      <td>0</td>\n",
       "      <td>1</td>\n",
       "      <td>0</td>\n",
       "      <td>0</td>\n",
       "      <td>1</td>\n",
       "      <td>0</td>\n",
       "      <td>1</td>\n",
       "      <td>0</td>\n",
       "      <td>0</td>\n",
       "      <td>0</td>\n",
       "      <td>0</td>\n",
       "      <td>0</td>\n",
       "      <td>0</td>\n",
       "      <td>0</td>\n",
       "      <td>0</td>\n",
       "      <td>0</td>\n",
       "      <td>0</td>\n",
       "      <td>0</td>\n",
       "      <td>0</td>\n",
       "      <td>0</td>\n",
       "      <td>1</td>\n",
       "      <td>0</td>\n",
       "      <td>0</td>\n",
       "      <td>1</td>\n",
       "    </tr>\n",
       "    <tr>\n",
       "      <th>38058</th>\n",
       "      <td>-0.421604</td>\n",
       "      <td>-0.823491</td>\n",
       "      <td>-0.141306</td>\n",
       "      <td>0.0</td>\n",
       "      <td>-0.397706</td>\n",
       "      <td>yes</td>\n",
       "      <td>-1.396626</td>\n",
       "      <td>-1.335031</td>\n",
       "      <td>1.188444</td>\n",
       "      <td>-1.533388</td>\n",
       "      <td>-1.624103</td>\n",
       "      <td>1</td>\n",
       "      <td>-0.239195</td>\n",
       "      <td>-0.699766</td>\n",
       "      <td>-1.332700</td>\n",
       "      <td>1.247132</td>\n",
       "      <td>-1.165015</td>\n",
       "      <td>-1.448870</td>\n",
       "      <td>1</td>\n",
       "      <td>0</td>\n",
       "      <td>0</td>\n",
       "      <td>0</td>\n",
       "      <td>0</td>\n",
       "      <td>0</td>\n",
       "      <td>0</td>\n",
       "      <td>0</td>\n",
       "      <td>0</td>\n",
       "      <td>0</td>\n",
       "      <td>0</td>\n",
       "      <td>0</td>\n",
       "      <td>0</td>\n",
       "      <td>0</td>\n",
       "      <td>1</td>\n",
       "      <td>0</td>\n",
       "      <td>0</td>\n",
       "      <td>0</td>\n",
       "      <td>0</td>\n",
       "      <td>0</td>\n",
       "      <td>0</td>\n",
       "      <td>0</td>\n",
       "      <td>1</td>\n",
       "      <td>0</td>\n",
       "      <td>1</td>\n",
       "      <td>0</td>\n",
       "      <td>0</td>\n",
       "      <td>0</td>\n",
       "      <td>0</td>\n",
       "      <td>1</td>\n",
       "      <td>1</td>\n",
       "      <td>0</td>\n",
       "      <td>0</td>\n",
       "      <td>1</td>\n",
       "      <td>0</td>\n",
       "      <td>0</td>\n",
       "      <td>0</td>\n",
       "      <td>0</td>\n",
       "      <td>0</td>\n",
       "      <td>0</td>\n",
       "      <td>0</td>\n",
       "      <td>0</td>\n",
       "      <td>0</td>\n",
       "      <td>0</td>\n",
       "      <td>1</td>\n",
       "      <td>1</td>\n",
       "      <td>0</td>\n",
       "      <td>0</td>\n",
       "      <td>0</td>\n",
       "      <td>0</td>\n",
       "      <td>0</td>\n",
       "      <td>1</td>\n",
       "      <td>0</td>\n",
       "    </tr>\n",
       "    <tr>\n",
       "      <th>12904</th>\n",
       "      <td>-1.322801</td>\n",
       "      <td>2.044763</td>\n",
       "      <td>-0.141306</td>\n",
       "      <td>0.0</td>\n",
       "      <td>-0.397706</td>\n",
       "      <td>yes</td>\n",
       "      <td>0.868654</td>\n",
       "      <td>0.599360</td>\n",
       "      <td>-0.512570</td>\n",
       "      <td>0.776575</td>\n",
       "      <td>0.919962</td>\n",
       "      <td>1</td>\n",
       "      <td>-0.239195</td>\n",
       "      <td>2.349067</td>\n",
       "      <td>0.597494</td>\n",
       "      <td>-0.067174</td>\n",
       "      <td>0.475895</td>\n",
       "      <td>0.813189</td>\n",
       "      <td>1</td>\n",
       "      <td>0</td>\n",
       "      <td>0</td>\n",
       "      <td>0</td>\n",
       "      <td>0</td>\n",
       "      <td>0</td>\n",
       "      <td>0</td>\n",
       "      <td>0</td>\n",
       "      <td>0</td>\n",
       "      <td>0</td>\n",
       "      <td>0</td>\n",
       "      <td>0</td>\n",
       "      <td>0</td>\n",
       "      <td>0</td>\n",
       "      <td>1</td>\n",
       "      <td>0</td>\n",
       "      <td>0</td>\n",
       "      <td>0</td>\n",
       "      <td>0</td>\n",
       "      <td>0</td>\n",
       "      <td>0</td>\n",
       "      <td>1</td>\n",
       "      <td>0</td>\n",
       "      <td>0</td>\n",
       "      <td>1</td>\n",
       "      <td>0</td>\n",
       "      <td>0</td>\n",
       "      <td>1</td>\n",
       "      <td>0</td>\n",
       "      <td>0</td>\n",
       "      <td>1</td>\n",
       "      <td>0</td>\n",
       "      <td>0</td>\n",
       "      <td>1</td>\n",
       "      <td>0</td>\n",
       "      <td>0</td>\n",
       "      <td>0</td>\n",
       "      <td>0</td>\n",
       "      <td>1</td>\n",
       "      <td>0</td>\n",
       "      <td>0</td>\n",
       "      <td>0</td>\n",
       "      <td>0</td>\n",
       "      <td>0</td>\n",
       "      <td>0</td>\n",
       "      <td>0</td>\n",
       "      <td>0</td>\n",
       "      <td>0</td>\n",
       "      <td>1</td>\n",
       "      <td>0</td>\n",
       "      <td>0</td>\n",
       "      <td>1</td>\n",
       "      <td>0</td>\n",
       "    </tr>\n",
       "    <tr>\n",
       "      <th>40735</th>\n",
       "      <td>1.718737</td>\n",
       "      <td>-0.187515</td>\n",
       "      <td>-0.873122</td>\n",
       "      <td>0.0</td>\n",
       "      <td>2.514421</td>\n",
       "      <td>yes</td>\n",
       "      <td>-0.901096</td>\n",
       "      <td>1.129667</td>\n",
       "      <td>0.827622</td>\n",
       "      <td>-1.533388</td>\n",
       "      <td>-1.624103</td>\n",
       "      <td>1</td>\n",
       "      <td>-0.239195</td>\n",
       "      <td>-0.388238</td>\n",
       "      <td>1.130349</td>\n",
       "      <td>-0.837275</td>\n",
       "      <td>-0.839913</td>\n",
       "      <td>-1.448870</td>\n",
       "      <td>0</td>\n",
       "      <td>0</td>\n",
       "      <td>0</td>\n",
       "      <td>0</td>\n",
       "      <td>0</td>\n",
       "      <td>1</td>\n",
       "      <td>0</td>\n",
       "      <td>0</td>\n",
       "      <td>0</td>\n",
       "      <td>0</td>\n",
       "      <td>0</td>\n",
       "      <td>0</td>\n",
       "      <td>0</td>\n",
       "      <td>1</td>\n",
       "      <td>0</td>\n",
       "      <td>0</td>\n",
       "      <td>0</td>\n",
       "      <td>0</td>\n",
       "      <td>0</td>\n",
       "      <td>1</td>\n",
       "      <td>0</td>\n",
       "      <td>0</td>\n",
       "      <td>0</td>\n",
       "      <td>0</td>\n",
       "      <td>1</td>\n",
       "      <td>0</td>\n",
       "      <td>0</td>\n",
       "      <td>1</td>\n",
       "      <td>0</td>\n",
       "      <td>0</td>\n",
       "      <td>1</td>\n",
       "      <td>0</td>\n",
       "      <td>0</td>\n",
       "      <td>1</td>\n",
       "      <td>0</td>\n",
       "      <td>0</td>\n",
       "      <td>0</td>\n",
       "      <td>0</td>\n",
       "      <td>0</td>\n",
       "      <td>0</td>\n",
       "      <td>0</td>\n",
       "      <td>0</td>\n",
       "      <td>0</td>\n",
       "      <td>0</td>\n",
       "      <td>1</td>\n",
       "      <td>0</td>\n",
       "      <td>0</td>\n",
       "      <td>0</td>\n",
       "      <td>0</td>\n",
       "      <td>1</td>\n",
       "      <td>0</td>\n",
       "      <td>0</td>\n",
       "      <td>1</td>\n",
       "    </tr>\n",
       "  </tbody>\n",
       "</table>\n",
       "</div>"
      ],
      "text/plain": [
       "            age  duration  ...  poutcome_nonexistent  poutcome_success\n",
       "19199 -0.646903  1.434226  ...                     1                 0\n",
       "39490  1.718737 -0.034880  ...                     0                 1\n",
       "38058 -0.421604 -0.823491  ...                     1                 0\n",
       "12904 -1.322801  2.044763  ...                     1                 0\n",
       "40735  1.718737 -0.187515  ...                     0                 1\n",
       "\n",
       "[5 rows x 71 columns]"
      ]
     },
     "execution_count": 7,
     "metadata": {
      "tags": []
     },
     "output_type": "execute_result"
    }
   ],
   "source": [
    "# calling the class and its methods\n",
    "d = DataPrep()\n",
    "path = '/content/bank-additional-full.csv'\n",
    "data = d.read_data(path)\n",
    "print('Original shape:', data.shape)\n",
    "data = d.treat_null(data)\n",
    "data = d.outlier_correcter(data)\n",
    "data = d.generate_features(data)\n",
    "print('After feature generation:', data.shape)\n",
    "data = d.scaler(data)\n",
    "print('After scaling:', data.shape)\n",
    "data = d.encoder(data)\n",
    "print('After encoding:', data.shape)\n",
    "data = d.over_sample(data)\n",
    "print('After resampling:', data.shape)\n",
    "data.head()"
   ]
  },
  {
   "cell_type": "code",
   "execution_count": null,
   "metadata": {
    "colab": {},
    "colab_type": "code",
    "id": "9W26DLiysbqA"
   },
   "outputs": [],
   "source": [
    "# drop duration (to avoid data leakage)\n",
    "data = data.drop(['duration', 'duration_sq'], axis = 1)"
   ]
  },
  {
   "cell_type": "markdown",
   "metadata": {
    "colab_type": "text",
    "id": "HppMSy5GkfmA"
   },
   "source": [
    "## 3 Dimensionality reduction\n",
    "\n",
    "**Dimensionality reduction:**\n",
    "\n",
    "\n",
    "> transformation of data from a high-dimensional space into a low-dimensional space so that the low-dimensional representation retains some meaningful properties of the original data, ideally close to its intrinsic dimension.\n",
    "\n",
    "In this kernel we explore 3 techniques:\n",
    "\n",
    "\n",
    "1.  **PCA**:  Principal component analysis is a technique for reducing the dimensionality of datasets, increasing interpretability but at the same time minimizing information loss. It does so by creating new uncorrelated variables that successively maximize variance.\n",
    "\n",
    "2.  **TSNE**: t-distriuted stochastic neighbor converts similarities between data points to joint probabilities and tries to minimize the [Kullback-Leibler](https://www.countbayesie.com/blog/2017/5/9/kullback-leibler-divergence-explained) divergence between the joint probabilities of the low-dimensional embedding and the high-dimensional data.In our case, this technique is applied before and after PCA transformation.\n",
    "\n",
    "3. **AUTOENCODERS**: An autoencoder is a type of artificial neural network used to learn efficient data codings in an unsupervised manner. The aim of an autoencoder is to learn a representation for a set of data, typically for dimensionality reduction, by training the network to ignore signal “noise”.\n",
    "\n",
    "\n",
    "The performance of these dimensionality reduction techniques is observed during modeling by matching the accuracies of different transformations with the untransformed dataset."
   ]
  },
  {
   "cell_type": "code",
   "execution_count": null,
   "metadata": {
    "colab": {
     "base_uri": "https://localhost:8080/",
     "height": 206
    },
    "colab_type": "code",
    "id": "MyAKz3detY0u",
    "outputId": "dbd211d4-8c6f-414e-cc96-c935e95dc0f8"
   },
   "outputs": [
    {
     "data": {
      "text/html": [
       "<div>\n",
       "<style scoped>\n",
       "    .dataframe tbody tr th:only-of-type {\n",
       "        vertical-align: middle;\n",
       "    }\n",
       "\n",
       "    .dataframe tbody tr th {\n",
       "        vertical-align: top;\n",
       "    }\n",
       "\n",
       "    .dataframe thead th {\n",
       "        text-align: right;\n",
       "    }\n",
       "</style>\n",
       "<table border=\"1\" class=\"dataframe\">\n",
       "  <thead>\n",
       "    <tr style=\"text-align: right;\">\n",
       "      <th></th>\n",
       "      <th>y</th>\n",
       "    </tr>\n",
       "  </thead>\n",
       "  <tbody>\n",
       "    <tr>\n",
       "      <th>0</th>\n",
       "      <td>1</td>\n",
       "    </tr>\n",
       "    <tr>\n",
       "      <th>1</th>\n",
       "      <td>1</td>\n",
       "    </tr>\n",
       "    <tr>\n",
       "      <th>2</th>\n",
       "      <td>1</td>\n",
       "    </tr>\n",
       "    <tr>\n",
       "      <th>3</th>\n",
       "      <td>1</td>\n",
       "    </tr>\n",
       "    <tr>\n",
       "      <th>4</th>\n",
       "      <td>1</td>\n",
       "    </tr>\n",
       "  </tbody>\n",
       "</table>\n",
       "</div>"
      ],
      "text/plain": [
       "   y\n",
       "0  1\n",
       "1  1\n",
       "2  1\n",
       "3  1\n",
       "4  1"
      ]
     },
     "execution_count": 9,
     "metadata": {
      "tags": []
     },
     "output_type": "execute_result"
    }
   ],
   "source": [
    "# split the data to have the predictor and predicted variables\n",
    "x = data.drop(['y'], axis = 1)\n",
    "y = data[['y']]\n",
    "\n",
    "# Encode labels in target df. \n",
    "encoder = LabelEncoder() \n",
    "y = encoder.fit_transform(y) \n",
    "y = pd.DataFrame(y)\n",
    "y.columns = ['y']\n",
    "y.head()"
   ]
  },
  {
   "cell_type": "markdown",
   "metadata": {
    "colab_type": "text",
    "id": "xHEOjXlTvju3"
   },
   "source": [
    "### 3.1 PCA"
   ]
  },
  {
   "cell_type": "code",
   "execution_count": null,
   "metadata": {
    "colab": {
     "base_uri": "https://localhost:8080/",
     "height": 551
    },
    "colab_type": "code",
    "id": "xHkPBFBckj7T",
    "outputId": "c18543a9-e28b-488a-aacc-e1e4aeca79e7"
   },
   "outputs": [
    {
     "data": {
      "image/png": "[encoded data removed]",
      "text/plain": [
       "<Figure size 864x648 with 1 Axes>"
      ]
     },
     "metadata": {
      "needs_background": "light",
      "tags": []
     },
     "output_type": "display_data"
    }
   ],
   "source": [
    "# pca\n",
    "pca = PCA()\n",
    "pca.fit(x)\n",
    "\n",
    "# get the optimal number of components\n",
    "plt.figure(figsize = (12,9))\n",
    "plt.plot(range(68), pca.explained_variance_ratio_.cumsum(), marker = 'o', linestyle = '--')\n",
    "plt.xlabel('components')\n",
    "plt.ylabel('cummulative explained variance')\n",
    "plt.grid(True)"
   ]
  },
  {
   "cell_type": "code",
   "execution_count": null,
   "metadata": {
    "colab": {},
    "colab_type": "code",
    "id": "EGssxyxKOGM0"
   },
   "outputs": [],
   "source": [
    "def pca(x):\n",
    "    pca = PCA(n_components = 8)\n",
    "    pca.fit(x)\n",
    "    pca_scores = pca.transform(x)\n",
    "    return pca_scores"
   ]
  },
  {
   "cell_type": "markdown",
   "metadata": {
    "colab_type": "text",
    "id": "9EywZnO1vw10"
   },
   "source": [
    "First 8 components hold 80% of the total variation thus a good number to work with."
   ]
  },
  {
   "cell_type": "code",
   "execution_count": null,
   "metadata": {
    "colab": {
     "base_uri": "https://localhost:8080/",
     "height": 224
    },
    "colab_type": "code",
    "id": "YI3xiHiivyvU",
    "outputId": "6bac4b44-ee16-4b02-f8da-091b9716d1f3"
   },
   "outputs": [
    {
     "name": "stdout",
     "output_type": "stream",
     "text": [
      "(73096, 8)\n"
     ]
    },
    {
     "data": {
      "text/html": [
       "<div>\n",
       "<style scoped>\n",
       "    .dataframe tbody tr th:only-of-type {\n",
       "        vertical-align: middle;\n",
       "    }\n",
       "\n",
       "    .dataframe tbody tr th {\n",
       "        vertical-align: top;\n",
       "    }\n",
       "\n",
       "    .dataframe thead th {\n",
       "        text-align: right;\n",
       "    }\n",
       "</style>\n",
       "<table border=\"1\" class=\"dataframe\">\n",
       "  <thead>\n",
       "    <tr style=\"text-align: right;\">\n",
       "      <th></th>\n",
       "      <th>0</th>\n",
       "      <th>1</th>\n",
       "      <th>2</th>\n",
       "      <th>3</th>\n",
       "      <th>4</th>\n",
       "      <th>5</th>\n",
       "      <th>6</th>\n",
       "      <th>7</th>\n",
       "    </tr>\n",
       "  </thead>\n",
       "  <tbody>\n",
       "    <tr>\n",
       "      <th>0</th>\n",
       "      <td>-2.340931</td>\n",
       "      <td>0.694888</td>\n",
       "      <td>0.101409</td>\n",
       "      <td>-1.695543</td>\n",
       "      <td>-1.300218</td>\n",
       "      <td>0.725761</td>\n",
       "      <td>-0.563518</td>\n",
       "      <td>-0.922739</td>\n",
       "    </tr>\n",
       "    <tr>\n",
       "      <th>1</th>\n",
       "      <td>2.188679</td>\n",
       "      <td>3.137289</td>\n",
       "      <td>1.076142</td>\n",
       "      <td>1.023267</td>\n",
       "      <td>1.469506</td>\n",
       "      <td>-0.431188</td>\n",
       "      <td>-0.529445</td>\n",
       "      <td>0.585185</td>\n",
       "    </tr>\n",
       "    <tr>\n",
       "      <th>2</th>\n",
       "      <td>2.423774</td>\n",
       "      <td>1.235087</td>\n",
       "      <td>-0.927898</td>\n",
       "      <td>-1.730621</td>\n",
       "      <td>-1.163028</td>\n",
       "      <td>-0.946711</td>\n",
       "      <td>0.227525</td>\n",
       "      <td>-0.720531</td>\n",
       "    </tr>\n",
       "    <tr>\n",
       "      <th>3</th>\n",
       "      <td>-2.372452</td>\n",
       "      <td>-1.422193</td>\n",
       "      <td>-0.100885</td>\n",
       "      <td>0.554204</td>\n",
       "      <td>-1.347001</td>\n",
       "      <td>0.386459</td>\n",
       "      <td>-0.949603</td>\n",
       "      <td>0.378210</td>\n",
       "    </tr>\n",
       "    <tr>\n",
       "      <th>4</th>\n",
       "      <td>1.043587</td>\n",
       "      <td>2.964444</td>\n",
       "      <td>0.422771</td>\n",
       "      <td>2.587346</td>\n",
       "      <td>1.522722</td>\n",
       "      <td>-0.123733</td>\n",
       "      <td>0.954169</td>\n",
       "      <td>0.615724</td>\n",
       "    </tr>\n",
       "  </tbody>\n",
       "</table>\n",
       "</div>"
      ],
      "text/plain": [
       "          0         1         2  ...         5         6         7\n",
       "0 -2.340931  0.694888  0.101409  ...  0.725761 -0.563518 -0.922739\n",
       "1  2.188679  3.137289  1.076142  ... -0.431188 -0.529445  0.585185\n",
       "2  2.423774  1.235087 -0.927898  ... -0.946711  0.227525 -0.720531\n",
       "3 -2.372452 -1.422193 -0.100885  ...  0.386459 -0.949603  0.378210\n",
       "4  1.043587  2.964444  0.422771  ... -0.123733  0.954169  0.615724\n",
       "\n",
       "[5 rows x 8 columns]"
      ]
     },
     "execution_count": 11,
     "metadata": {
      "tags": []
     },
     "output_type": "execute_result"
    }
   ],
   "source": [
    "# lets get our 8-component df\n",
    "pca_scores = pca(x)\n",
    "x_pca = pd.DataFrame(pca_scores)\n",
    "print(x_pca.shape)\n",
    "x_pca.head()"
   ]
  },
  {
   "cell_type": "markdown",
   "metadata": {
    "colab_type": "text",
    "id": "v6j92tOqyEsX"
   },
   "source": [
    "### 3.2 TSNE"
   ]
  },
  {
   "cell_type": "code",
   "execution_count": null,
   "metadata": {
    "colab": {},
    "colab_type": "code",
    "id": "oeM4PRTzOGNE"
   },
   "outputs": [],
   "source": [
    "# T-Distributed Stochastic Neighbouring Entities\n",
    "def tsne(x):\n",
    "    time_start = time.time()\n",
    "    tsne = TSNE(n_components = 2, verbose=0, perplexity=40, n_iter=300)  #using 2 components since the barnes_hut algorithm relies on quad-tree or oct-tree.\n",
    "    tsne_results = tsne.fit_transform(x)\n",
    "    print('t-SNE done! Time elapsed: {} seconds'.format(time.time()-time_start))\n",
    "    return tsne_results"
   ]
  },
  {
   "cell_type": "markdown",
   "metadata": {
    "colab_type": "text",
    "id": "I6e8bdBG76RL"
   },
   "source": [
    "#### 3.2.1 TSNE on Original Dataset"
   ]
  },
  {
   "cell_type": "code",
   "execution_count": null,
   "metadata": {
    "colab": {
     "base_uri": "https://localhost:8080/",
     "height": 34
    },
    "colab_type": "code",
    "id": "6gs35elR6f7F",
    "outputId": "f05125f3-947e-44e7-fbc1-fa9fdde3ae9e"
   },
   "outputs": [
    {
     "name": "stdout",
     "output_type": "stream",
     "text": [
      "t-SNE done! Time elapsed: 998.7151763439178 seconds\n"
     ]
    }
   ],
   "source": [
    "tsne_results = tsne(x)"
   ]
  },
  {
   "cell_type": "code",
   "execution_count": null,
   "metadata": {
    "colab": {
     "base_uri": "https://localhost:8080/",
     "height": 206
    },
    "colab_type": "code",
    "id": "SQ9LeZb2QlN_",
    "outputId": "4a2c3382-7f5b-49a3-a6af-a8c4a47649da"
   },
   "outputs": [
    {
     "data": {
      "text/html": [
       "<div>\n",
       "<style scoped>\n",
       "    .dataframe tbody tr th:only-of-type {\n",
       "        vertical-align: middle;\n",
       "    }\n",
       "\n",
       "    .dataframe tbody tr th {\n",
       "        vertical-align: top;\n",
       "    }\n",
       "\n",
       "    .dataframe thead th {\n",
       "        text-align: right;\n",
       "    }\n",
       "</style>\n",
       "<table border=\"1\" class=\"dataframe\">\n",
       "  <thead>\n",
       "    <tr style=\"text-align: right;\">\n",
       "      <th></th>\n",
       "      <th>tsne_one</th>\n",
       "      <th>tsne_two</th>\n",
       "    </tr>\n",
       "  </thead>\n",
       "  <tbody>\n",
       "    <tr>\n",
       "      <th>0</th>\n",
       "      <td>44.059780</td>\n",
       "      <td>-29.043005</td>\n",
       "    </tr>\n",
       "    <tr>\n",
       "      <th>1</th>\n",
       "      <td>-21.481403</td>\n",
       "      <td>28.756201</td>\n",
       "    </tr>\n",
       "    <tr>\n",
       "      <th>2</th>\n",
       "      <td>32.094521</td>\n",
       "      <td>-9.172636</td>\n",
       "    </tr>\n",
       "    <tr>\n",
       "      <th>3</th>\n",
       "      <td>-10.340938</td>\n",
       "      <td>-55.238308</td>\n",
       "    </tr>\n",
       "    <tr>\n",
       "      <th>4</th>\n",
       "      <td>-40.738171</td>\n",
       "      <td>38.958412</td>\n",
       "    </tr>\n",
       "  </tbody>\n",
       "</table>\n",
       "</div>"
      ],
      "text/plain": [
       "    tsne_one   tsne_two\n",
       "0  44.059780 -29.043005\n",
       "1 -21.481403  28.756201\n",
       "2  32.094521  -9.172636\n",
       "3 -10.340938 -55.238308\n",
       "4 -40.738171  38.958412"
      ]
     },
     "execution_count": 13,
     "metadata": {
      "tags": []
     },
     "output_type": "execute_result"
    }
   ],
   "source": [
    "x_tsne_org = pd.DataFrame(columns = ['tsne_one', 'tsne_two'])\n",
    "x_tsne_org['tsne_one'] = tsne_results[:,0]\n",
    "x_tsne_org['tsne_two'] = tsne_results[:,1]\n",
    "x_tsne_org.head()"
   ]
  },
  {
   "cell_type": "markdown",
   "metadata": {
    "colab_type": "text",
    "id": "vZqLV8gF7-DE"
   },
   "source": [
    "#### 3.2.2 TSNE on PCA transformed dataset"
   ]
  },
  {
   "cell_type": "code",
   "execution_count": null,
   "metadata": {
    "colab": {
     "base_uri": "https://localhost:8080/",
     "height": 34
    },
    "colab_type": "code",
    "id": "_i4fXqSC64Nw",
    "outputId": "4a4aaa6f-2939-41de-a256-05d4541d1c38"
   },
   "outputs": [
    {
     "name": "stdout",
     "output_type": "stream",
     "text": [
      "t-SNE done! Time elapsed: 287.1690123081207 seconds\n"
     ]
    }
   ],
   "source": [
    "tsne_pca_results = tsne(pca_scores)"
   ]
  },
  {
   "cell_type": "code",
   "execution_count": null,
   "metadata": {
    "colab": {
     "base_uri": "https://localhost:8080/",
     "height": 206
    },
    "colab_type": "code",
    "id": "qTUB7fvURCZ4",
    "outputId": "be077682-d4fe-4501-fdef-bb8f3a9058c9"
   },
   "outputs": [
    {
     "data": {
      "text/html": [
       "<div>\n",
       "<style scoped>\n",
       "    .dataframe tbody tr th:only-of-type {\n",
       "        vertical-align: middle;\n",
       "    }\n",
       "\n",
       "    .dataframe tbody tr th {\n",
       "        vertical-align: top;\n",
       "    }\n",
       "\n",
       "    .dataframe thead th {\n",
       "        text-align: right;\n",
       "    }\n",
       "</style>\n",
       "<table border=\"1\" class=\"dataframe\">\n",
       "  <thead>\n",
       "    <tr style=\"text-align: right;\">\n",
       "      <th></th>\n",
       "      <th>tsne_pca_one</th>\n",
       "      <th>tsne_pca_two</th>\n",
       "    </tr>\n",
       "  </thead>\n",
       "  <tbody>\n",
       "    <tr>\n",
       "      <th>0</th>\n",
       "      <td>5.616454</td>\n",
       "      <td>-7.771152</td>\n",
       "    </tr>\n",
       "    <tr>\n",
       "      <th>1</th>\n",
       "      <td>1.585083</td>\n",
       "      <td>5.971944</td>\n",
       "    </tr>\n",
       "    <tr>\n",
       "      <th>2</th>\n",
       "      <td>6.334506</td>\n",
       "      <td>4.383696</td>\n",
       "    </tr>\n",
       "    <tr>\n",
       "      <th>3</th>\n",
       "      <td>2.217092</td>\n",
       "      <td>-2.368316</td>\n",
       "    </tr>\n",
       "    <tr>\n",
       "      <th>4</th>\n",
       "      <td>-5.905624</td>\n",
       "      <td>5.222930</td>\n",
       "    </tr>\n",
       "  </tbody>\n",
       "</table>\n",
       "</div>"
      ],
      "text/plain": [
       "   tsne_pca_one  tsne_pca_two\n",
       "0      5.616454     -7.771152\n",
       "1      1.585083      5.971944\n",
       "2      6.334506      4.383696\n",
       "3      2.217092     -2.368316\n",
       "4     -5.905624      5.222930"
      ]
     },
     "execution_count": 15,
     "metadata": {
      "tags": []
     },
     "output_type": "execute_result"
    }
   ],
   "source": [
    "x_tsne_pca = pd.DataFrame(columns = ['tsne_pca_one', 'tsne_pca_two'])\n",
    "x_tsne_pca['tsne_pca_one'] = tsne_pca_results[:,0]\n",
    "x_tsne_pca['tsne_pca_two'] = tsne_pca_results[:,1]\n",
    "x_tsne_pca.head()"
   ]
  },
  {
   "cell_type": "code",
   "execution_count": null,
   "metadata": {
    "colab": {
     "base_uri": "https://localhost:8080/",
     "height": 475
    },
    "colab_type": "code",
    "id": "oThVwxWm8yfc",
    "outputId": "336e5f88-95f0-47e8-9670-11d9dceae8c5"
   },
   "outputs": [
    {
     "data": {
      "text/plain": [
       "Text(0.5, 1.0, 'Scatter plot of the tsne reduction on the pca transformed dataset')"
      ]
     },
     "execution_count": 16,
     "metadata": {
      "tags": []
     },
     "output_type": "execute_result"
    },
    {
     "data": {
      "image/png": "[encoded data removed]",
      "text/plain": [
       "<Figure size 1152x504 with 2 Axes>"
      ]
     },
     "metadata": {
      "needs_background": "light",
      "tags": []
     },
     "output_type": "display_data"
    }
   ],
   "source": [
    "# visualising the 2 tsne's\n",
    "df = pd.DataFrame(columns = ['tsne-pca8-one', 'tsne-pca8-two', 'tsne-one', 'tsne-two', 'y'])\n",
    "df['tsne-pca8-one'] = tsne_pca_results[:,0]\n",
    "df['tsne-pca8-two'] = tsne_pca_results[:,1]\n",
    "df['tsne-one'] = tsne_results[:,0]\n",
    "df['tsne-two'] = tsne_results[:,1]\n",
    "df['y'] = y.values\n",
    "\n",
    "plt.figure(figsize=(16,7)).gca(projection='3d')\n",
    "\n",
    "ax1 = plt.subplot(1, 2, 1)\n",
    "sns.scatterplot(\n",
    "    x=\"tsne-one\", y=\"tsne-two\",\n",
    "    hue=\"y\",\n",
    "    palette=sns.color_palette(\"hls\", 2),\n",
    "    data=df,\n",
    "    legend=\"full\",\n",
    "    alpha=0.3,\n",
    "    ax=ax1\n",
    ").set_title('Scatter plot of tsne reduction on the original dataset')\n",
    "\n",
    "\n",
    "ax2 = plt.subplot(1, 2, 2)\n",
    "sns.scatterplot(\n",
    "    x=\"tsne-pca8-one\", y=\"tsne-pca8-two\",\n",
    "    hue=\"y\",\n",
    "    palette=sns.color_palette(\"hls\", 2),\n",
    "    data=df,\n",
    "    legend=\"full\",\n",
    "    alpha=0.3,\n",
    "    ax=ax2\n",
    ").set_title('Scatter plot of the tsne reduction on the pca transformed dataset')\n"
   ]
  },
  {
   "cell_type": "markdown",
   "metadata": {
    "colab_type": "text",
    "id": "9sS_5D2bG6Tc"
   },
   "source": [
    "The first plot (tsne on entire dataset) has more datapoints than the 2nd plot (on pca reduced data). \n",
    "\n",
    "The clusters are more visible on the 2nd plot and the **no** class is somehow dominating. Recall we oversampled the **yes** class, thus its entries are full of non-unique values, thus the **no** class has less similarities (more variations) in comparison to the **yes** class (less variations) hence less blue clusters.\n",
    "\n",
    "We'll explore the performance of these 2 + the original PCA reduction in the modelling phase."
   ]
  },
  {
   "cell_type": "markdown",
   "metadata": {
    "colab_type": "text",
    "id": "442ein7ZyH0v"
   },
   "source": [
    "### 4.3 AUTOENCODERS"
   ]
  },
  {
   "cell_type": "code",
   "execution_count": null,
   "metadata": {
    "colab": {},
    "colab_type": "code",
    "id": "kN-0FvLiL8tj"
   },
   "outputs": [],
   "source": [
    "X_train, X_test, y_train,  y_test = train_test_split(x, y, test_size=0.2, random_state=42)\n",
    "X_train = X_train.values\n",
    "X_test = X_test.values"
   ]
  },
  {
   "cell_type": "code",
   "execution_count": null,
   "metadata": {
    "colab": {
     "base_uri": "https://localhost:8080/",
     "height": 1000
    },
    "colab_type": "code",
    "id": "E4juIG1LJ9bk",
    "outputId": "806d61ad-367c-4f09-e133-bfb84535c0ee"
   },
   "outputs": [
    {
     "name": "stdout",
     "output_type": "stream",
     "text": [
      "Epoch 1/100\n",
      "   1/1828 [..............................] - ETA: 0s - loss: 0.3841 - accuracy: 0.0625WARNING:tensorflow:From /usr/local/lib/python3.6/dist-packages/tensorflow/python/ops/summary_ops_v2.py:1277: stop (from tensorflow.python.eager.profiler) is deprecated and will be removed after 2020-07-01.\n",
      "Instructions for updating:\n",
      "use `tf.profiler.experimental.stop` instead.\n",
      "WARNING:tensorflow:Callbacks method `on_train_batch_end` is slow compared to the batch time (batch time: 0.0076s vs `on_train_batch_end` time: 0.0233s). Check your callbacks.\n",
      "1828/1828 [==============================] - 3s 2ms/step - loss: 0.2383 - accuracy: 0.3282 - val_loss: 0.2070 - val_accuracy: 0.4435\n",
      "Epoch 2/100\n",
      "1828/1828 [==============================] - 3s 2ms/step - loss: 0.1893 - accuracy: 0.5783 - val_loss: 0.1814 - val_accuracy: 0.6729\n",
      "Epoch 3/100\n",
      "1828/1828 [==============================] - 3s 2ms/step - loss: 0.1776 - accuracy: 0.6986 - val_loss: 0.1776 - val_accuracy: 0.6982\n",
      "Epoch 4/100\n",
      "1828/1828 [==============================] - 3s 2ms/step - loss: 0.1753 - accuracy: 0.7226 - val_loss: 0.1761 - val_accuracy: 0.7289\n",
      "Epoch 5/100\n",
      "1828/1828 [==============================] - 3s 2ms/step - loss: 0.1742 - accuracy: 0.7387 - val_loss: 0.1753 - val_accuracy: 0.7451\n",
      "Epoch 6/100\n",
      "1828/1828 [==============================] - 3s 1ms/step - loss: 0.1736 - accuracy: 0.7498 - val_loss: 0.1749 - val_accuracy: 0.7523\n",
      "Epoch 7/100\n",
      "1828/1828 [==============================] - 3s 2ms/step - loss: 0.1732 - accuracy: 0.7556 - val_loss: 0.1745 - val_accuracy: 0.7549\n",
      "Epoch 8/100\n",
      "1828/1828 [==============================] - 3s 1ms/step - loss: 0.1729 - accuracy: 0.7601 - val_loss: 0.1743 - val_accuracy: 0.7646\n",
      "Epoch 9/100\n",
      "1828/1828 [==============================] - 3s 1ms/step - loss: 0.1727 - accuracy: 0.7619 - val_loss: 0.1741 - val_accuracy: 0.7595\n",
      "Epoch 10/100\n",
      "1828/1828 [==============================] - 3s 1ms/step - loss: 0.1725 - accuracy: 0.7636 - val_loss: 0.1738 - val_accuracy: 0.7644\n",
      "Epoch 11/100\n",
      "1828/1828 [==============================] - 3s 1ms/step - loss: 0.1723 - accuracy: 0.7626 - val_loss: 0.1737 - val_accuracy: 0.7665\n",
      "Epoch 12/100\n",
      "1828/1828 [==============================] - 3s 1ms/step - loss: 0.1722 - accuracy: 0.7636 - val_loss: 0.1736 - val_accuracy: 0.7562\n",
      "Epoch 13/100\n",
      "1828/1828 [==============================] - 3s 1ms/step - loss: 0.1721 - accuracy: 0.7632 - val_loss: 0.1734 - val_accuracy: 0.7536\n",
      "Epoch 14/100\n",
      "1828/1828 [==============================] - 3s 1ms/step - loss: 0.1720 - accuracy: 0.7637 - val_loss: 0.1734 - val_accuracy: 0.7600\n",
      "Epoch 15/100\n",
      "1828/1828 [==============================] - 3s 1ms/step - loss: 0.1719 - accuracy: 0.7649 - val_loss: 0.1733 - val_accuracy: 0.7573\n",
      "Epoch 16/100\n",
      "1828/1828 [==============================] - 3s 1ms/step - loss: 0.1718 - accuracy: 0.7650 - val_loss: 0.1732 - val_accuracy: 0.7561\n",
      "Epoch 17/100\n",
      "1828/1828 [==============================] - 3s 1ms/step - loss: 0.1717 - accuracy: 0.7641 - val_loss: 0.1731 - val_accuracy: 0.7560\n",
      "Epoch 18/100\n",
      "1828/1828 [==============================] - 3s 1ms/step - loss: 0.1716 - accuracy: 0.7650 - val_loss: 0.1731 - val_accuracy: 0.7624\n",
      "Epoch 19/100\n",
      "1828/1828 [==============================] - 3s 1ms/step - loss: 0.1716 - accuracy: 0.7655 - val_loss: 0.1730 - val_accuracy: 0.7651\n",
      "Epoch 20/100\n",
      "1828/1828 [==============================] - 3s 1ms/step - loss: 0.1715 - accuracy: 0.7657 - val_loss: 0.1730 - val_accuracy: 0.7641\n",
      "Epoch 21/100\n",
      "1828/1828 [==============================] - 3s 1ms/step - loss: 0.1714 - accuracy: 0.7677 - val_loss: 0.1729 - val_accuracy: 0.7576\n",
      "Epoch 22/100\n",
      "1828/1828 [==============================] - 3s 1ms/step - loss: 0.1714 - accuracy: 0.7671 - val_loss: 0.1729 - val_accuracy: 0.7332\n",
      "Epoch 23/100\n",
      "1828/1828 [==============================] - 3s 1ms/step - loss: 0.1713 - accuracy: 0.7659 - val_loss: 0.1728 - val_accuracy: 0.7597\n",
      "Epoch 24/100\n",
      "1828/1828 [==============================] - 3s 1ms/step - loss: 0.1713 - accuracy: 0.7679 - val_loss: 0.1727 - val_accuracy: 0.7627\n",
      "Epoch 25/100\n",
      "1828/1828 [==============================] - 3s 1ms/step - loss: 0.1712 - accuracy: 0.7677 - val_loss: 0.1728 - val_accuracy: 0.7610\n",
      "Epoch 26/100\n",
      "1828/1828 [==============================] - 3s 1ms/step - loss: 0.1712 - accuracy: 0.7687 - val_loss: 0.1728 - val_accuracy: 0.7674\n",
      "Epoch 27/100\n",
      "1828/1828 [==============================] - 3s 1ms/step - loss: 0.1712 - accuracy: 0.7680 - val_loss: 0.1728 - val_accuracy: 0.7601\n",
      "Epoch 28/100\n",
      "1828/1828 [==============================] - 3s 1ms/step - loss: 0.1712 - accuracy: 0.7683 - val_loss: 0.1727 - val_accuracy: 0.7705\n",
      "Epoch 29/100\n",
      "1828/1828 [==============================] - 3s 1ms/step - loss: 0.1711 - accuracy: 0.7693 - val_loss: 0.1726 - val_accuracy: 0.7676\n",
      "Epoch 30/100\n",
      "1828/1828 [==============================] - 3s 1ms/step - loss: 0.1711 - accuracy: 0.7685 - val_loss: 0.1726 - val_accuracy: 0.7616\n",
      "Epoch 31/100\n",
      "1828/1828 [==============================] - 3s 1ms/step - loss: 0.1711 - accuracy: 0.7698 - val_loss: 0.1726 - val_accuracy: 0.7592\n",
      "Epoch 32/100\n",
      "1828/1828 [==============================] - 3s 1ms/step - loss: 0.1711 - accuracy: 0.7692 - val_loss: 0.1725 - val_accuracy: 0.7675\n",
      "Epoch 33/100\n",
      "1828/1828 [==============================] - 3s 1ms/step - loss: 0.1710 - accuracy: 0.7714 - val_loss: 0.1726 - val_accuracy: 0.7682\n",
      "Epoch 34/100\n",
      "1828/1828 [==============================] - 3s 1ms/step - loss: 0.1710 - accuracy: 0.7715 - val_loss: 0.1725 - val_accuracy: 0.7751\n",
      "Epoch 35/100\n",
      "1828/1828 [==============================] - 3s 1ms/step - loss: 0.1710 - accuracy: 0.7720 - val_loss: 0.1725 - val_accuracy: 0.7679\n",
      "Epoch 36/100\n",
      "1828/1828 [==============================] - 3s 1ms/step - loss: 0.1710 - accuracy: 0.7714 - val_loss: 0.1725 - val_accuracy: 0.7711\n",
      "Epoch 37/100\n",
      "1828/1828 [==============================] - 3s 1ms/step - loss: 0.1710 - accuracy: 0.7726 - val_loss: 0.1725 - val_accuracy: 0.7692\n",
      "Epoch 38/100\n",
      "1828/1828 [==============================] - 3s 1ms/step - loss: 0.1710 - accuracy: 0.7719 - val_loss: 0.1724 - val_accuracy: 0.7737\n",
      "Epoch 39/100\n",
      "1828/1828 [==============================] - 3s 1ms/step - loss: 0.1709 - accuracy: 0.7725 - val_loss: 0.1724 - val_accuracy: 0.7656\n",
      "Epoch 40/100\n",
      "1828/1828 [==============================] - 3s 1ms/step - loss: 0.1709 - accuracy: 0.7733 - val_loss: 0.1724 - val_accuracy: 0.7462\n",
      "Epoch 41/100\n",
      "1828/1828 [==============================] - 3s 2ms/step - loss: 0.1709 - accuracy: 0.7746 - val_loss: 0.1724 - val_accuracy: 0.7749\n",
      "Epoch 42/100\n",
      "1828/1828 [==============================] - 3s 1ms/step - loss: 0.1709 - accuracy: 0.7737 - val_loss: 0.1724 - val_accuracy: 0.7609\n",
      "Epoch 43/100\n",
      "1828/1828 [==============================] - 3s 1ms/step - loss: 0.1709 - accuracy: 0.7739 - val_loss: 0.1725 - val_accuracy: 0.7744\n",
      "Epoch 44/100\n",
      "1828/1828 [==============================] - 3s 1ms/step - loss: 0.1709 - accuracy: 0.7731 - val_loss: 0.1723 - val_accuracy: 0.7644\n",
      "Epoch 45/100\n",
      "1828/1828 [==============================] - 3s 1ms/step - loss: 0.1709 - accuracy: 0.7726 - val_loss: 0.1723 - val_accuracy: 0.7657\n",
      "Epoch 46/100\n",
      "1828/1828 [==============================] - 3s 1ms/step - loss: 0.1709 - accuracy: 0.7743 - val_loss: 0.1723 - val_accuracy: 0.7722\n",
      "Epoch 47/100\n",
      "1828/1828 [==============================] - 3s 1ms/step - loss: 0.1708 - accuracy: 0.7725 - val_loss: 0.1724 - val_accuracy: 0.7648\n",
      "Epoch 48/100\n",
      "1828/1828 [==============================] - 3s 1ms/step - loss: 0.1708 - accuracy: 0.7728 - val_loss: 0.1723 - val_accuracy: 0.7729\n",
      "Epoch 49/100\n",
      "1828/1828 [==============================] - 3s 1ms/step - loss: 0.1708 - accuracy: 0.7729 - val_loss: 0.1723 - val_accuracy: 0.7774\n",
      "Epoch 50/100\n",
      "1828/1828 [==============================] - 3s 1ms/step - loss: 0.1708 - accuracy: 0.7722 - val_loss: 0.1723 - val_accuracy: 0.7647\n",
      "Epoch 51/100\n",
      "1828/1828 [==============================] - 3s 1ms/step - loss: 0.1708 - accuracy: 0.7734 - val_loss: 0.1723 - val_accuracy: 0.7708\n",
      "Epoch 52/100\n",
      "1828/1828 [==============================] - 3s 1ms/step - loss: 0.1708 - accuracy: 0.7731 - val_loss: 0.1723 - val_accuracy: 0.7768\n",
      "Epoch 53/100\n",
      "1828/1828 [==============================] - 3s 1ms/step - loss: 0.1708 - accuracy: 0.7727 - val_loss: 0.1723 - val_accuracy: 0.7582\n",
      "Epoch 54/100\n",
      "1828/1828 [==============================] - 3s 1ms/step - loss: 0.1708 - accuracy: 0.7727 - val_loss: 0.1723 - val_accuracy: 0.7737\n",
      "Epoch 55/100\n",
      "1828/1828 [==============================] - 3s 1ms/step - loss: 0.1707 - accuracy: 0.7731 - val_loss: 0.1722 - val_accuracy: 0.7741\n",
      "Epoch 56/100\n",
      "1828/1828 [==============================] - 3s 1ms/step - loss: 0.1707 - accuracy: 0.7737 - val_loss: 0.1723 - val_accuracy: 0.7668\n",
      "Epoch 57/100\n",
      "1828/1828 [==============================] - 3s 2ms/step - loss: 0.1707 - accuracy: 0.7729 - val_loss: 0.1723 - val_accuracy: 0.7655\n",
      "Epoch 58/100\n",
      "1828/1828 [==============================] - 3s 2ms/step - loss: 0.1707 - accuracy: 0.7709 - val_loss: 0.1722 - val_accuracy: 0.7648\n",
      "Epoch 59/100\n",
      "1828/1828 [==============================] - 3s 1ms/step - loss: 0.1707 - accuracy: 0.7705 - val_loss: 0.1722 - val_accuracy: 0.7648\n",
      "Epoch 60/100\n",
      "1828/1828 [==============================] - 3s 1ms/step - loss: 0.1707 - accuracy: 0.7718 - val_loss: 0.1722 - val_accuracy: 0.7627\n",
      "Epoch 61/100\n",
      "1828/1828 [==============================] - 3s 1ms/step - loss: 0.1707 - accuracy: 0.7720 - val_loss: 0.1722 - val_accuracy: 0.7729\n",
      "Epoch 62/100\n",
      "1828/1828 [==============================] - 3s 1ms/step - loss: 0.1707 - accuracy: 0.7693 - val_loss: 0.1722 - val_accuracy: 0.7583\n",
      "Epoch 63/100\n",
      "1828/1828 [==============================] - 3s 1ms/step - loss: 0.1707 - accuracy: 0.7694 - val_loss: 0.1722 - val_accuracy: 0.7575\n",
      "Epoch 64/100\n",
      "1828/1828 [==============================] - 3s 1ms/step - loss: 0.1707 - accuracy: 0.7698 - val_loss: 0.1722 - val_accuracy: 0.7659\n",
      "Epoch 65/100\n",
      "1828/1828 [==============================] - 3s 1ms/step - loss: 0.1706 - accuracy: 0.7707 - val_loss: 0.1722 - val_accuracy: 0.7716\n",
      "Epoch 66/100\n",
      "1828/1828 [==============================] - 3s 1ms/step - loss: 0.1706 - accuracy: 0.7684 - val_loss: 0.1722 - val_accuracy: 0.7655\n",
      "Epoch 67/100\n",
      "1828/1828 [==============================] - 3s 1ms/step - loss: 0.1706 - accuracy: 0.7687 - val_loss: 0.1722 - val_accuracy: 0.7758\n",
      "Epoch 68/100\n",
      "1828/1828 [==============================] - 3s 1ms/step - loss: 0.1706 - accuracy: 0.7709 - val_loss: 0.1721 - val_accuracy: 0.7759\n",
      "Epoch 69/100\n",
      "1828/1828 [==============================] - 3s 1ms/step - loss: 0.1706 - accuracy: 0.7706 - val_loss: 0.1721 - val_accuracy: 0.7653\n",
      "Epoch 70/100\n",
      "1828/1828 [==============================] - 3s 1ms/step - loss: 0.1706 - accuracy: 0.7689 - val_loss: 0.1721 - val_accuracy: 0.7735\n",
      "Epoch 71/100\n",
      "1828/1828 [==============================] - 3s 1ms/step - loss: 0.1706 - accuracy: 0.7681 - val_loss: 0.1721 - val_accuracy: 0.7671\n",
      "Epoch 72/100\n",
      "1828/1828 [==============================] - 3s 1ms/step - loss: 0.1706 - accuracy: 0.7688 - val_loss: 0.1721 - val_accuracy: 0.7640\n",
      "Epoch 73/100\n",
      "1828/1828 [==============================] - 3s 1ms/step - loss: 0.1706 - accuracy: 0.7676 - val_loss: 0.1721 - val_accuracy: 0.7589\n",
      "Epoch 74/100\n",
      "1828/1828 [==============================] - 3s 1ms/step - loss: 0.1706 - accuracy: 0.7674 - val_loss: 0.1721 - val_accuracy: 0.7682\n",
      "Epoch 75/100\n",
      "1828/1828 [==============================] - 3s 1ms/step - loss: 0.1706 - accuracy: 0.7665 - val_loss: 0.1723 - val_accuracy: 0.7552\n",
      "Epoch 76/100\n",
      "1828/1828 [==============================] - 3s 1ms/step - loss: 0.1706 - accuracy: 0.7701 - val_loss: 0.1721 - val_accuracy: 0.7625\n",
      "Epoch 77/100\n",
      "1828/1828 [==============================] - 3s 1ms/step - loss: 0.1706 - accuracy: 0.7643 - val_loss: 0.1721 - val_accuracy: 0.7746\n",
      "Epoch 78/100\n",
      "1828/1828 [==============================] - 3s 1ms/step - loss: 0.1706 - accuracy: 0.7680 - val_loss: 0.1721 - val_accuracy: 0.7631\n",
      "Epoch 79/100\n",
      "1828/1828 [==============================] - 3s 1ms/step - loss: 0.1706 - accuracy: 0.7656 - val_loss: 0.1720 - val_accuracy: 0.7633\n",
      "Epoch 80/100\n",
      "1828/1828 [==============================] - 3s 1ms/step - loss: 0.1706 - accuracy: 0.7670 - val_loss: 0.1723 - val_accuracy: 0.7569\n",
      "Epoch 81/100\n",
      "1828/1828 [==============================] - 3s 1ms/step - loss: 0.1705 - accuracy: 0.7645 - val_loss: 0.1720 - val_accuracy: 0.7718\n",
      "Epoch 82/100\n",
      "1828/1828 [==============================] - 3s 1ms/step - loss: 0.1705 - accuracy: 0.7626 - val_loss: 0.1721 - val_accuracy: 0.7615\n",
      "Epoch 83/100\n",
      "1828/1828 [==============================] - 3s 1ms/step - loss: 0.1705 - accuracy: 0.7653 - val_loss: 0.1720 - val_accuracy: 0.7504\n",
      "Epoch 84/100\n",
      "1828/1828 [==============================] - 3s 1ms/step - loss: 0.1705 - accuracy: 0.7637 - val_loss: 0.1720 - val_accuracy: 0.7635\n",
      "Epoch 85/100\n",
      "1828/1828 [==============================] - 3s 1ms/step - loss: 0.1705 - accuracy: 0.7664 - val_loss: 0.1720 - val_accuracy: 0.7650\n",
      "Epoch 86/100\n",
      "1828/1828 [==============================] - 3s 1ms/step - loss: 0.1705 - accuracy: 0.7645 - val_loss: 0.1720 - val_accuracy: 0.7766\n",
      "Epoch 87/100\n",
      "1828/1828 [==============================] - 3s 1ms/step - loss: 0.1705 - accuracy: 0.7636 - val_loss: 0.1721 - val_accuracy: 0.7696\n",
      "Epoch 88/100\n",
      "1828/1828 [==============================] - 3s 1ms/step - loss: 0.1705 - accuracy: 0.7651 - val_loss: 0.1720 - val_accuracy: 0.7753\n",
      "Epoch 89/100\n",
      "1828/1828 [==============================] - 3s 1ms/step - loss: 0.1705 - accuracy: 0.7647 - val_loss: 0.1721 - val_accuracy: 0.7643\n",
      "Epoch 90/100\n",
      "1828/1828 [==============================] - 3s 1ms/step - loss: 0.1705 - accuracy: 0.7631 - val_loss: 0.1720 - val_accuracy: 0.7505\n",
      "Epoch 91/100\n",
      "1828/1828 [==============================] - 3s 1ms/step - loss: 0.1705 - accuracy: 0.7634 - val_loss: 0.1719 - val_accuracy: 0.7600\n",
      "Epoch 92/100\n",
      "1828/1828 [==============================] - 3s 1ms/step - loss: 0.1705 - accuracy: 0.7614 - val_loss: 0.1721 - val_accuracy: 0.7548\n",
      "Epoch 93/100\n",
      "1828/1828 [==============================] - 3s 1ms/step - loss: 0.1705 - accuracy: 0.7637 - val_loss: 0.1721 - val_accuracy: 0.7726\n",
      "Epoch 94/100\n",
      "1828/1828 [==============================] - 3s 1ms/step - loss: 0.1705 - accuracy: 0.7614 - val_loss: 0.1720 - val_accuracy: 0.7570\n",
      "Epoch 95/100\n",
      "1828/1828 [==============================] - 3s 1ms/step - loss: 0.1705 - accuracy: 0.7625 - val_loss: 0.1720 - val_accuracy: 0.7545\n",
      "Epoch 96/100\n",
      "1828/1828 [==============================] - 3s 1ms/step - loss: 0.1705 - accuracy: 0.7609 - val_loss: 0.1720 - val_accuracy: 0.7576\n",
      "Epoch 97/100\n",
      "1828/1828 [==============================] - 3s 1ms/step - loss: 0.1705 - accuracy: 0.7606 - val_loss: 0.1719 - val_accuracy: 0.7694\n",
      "Epoch 98/100\n",
      "1828/1828 [==============================] - 3s 1ms/step - loss: 0.1705 - accuracy: 0.7632 - val_loss: 0.1720 - val_accuracy: 0.7609\n",
      "Epoch 99/100\n",
      "1828/1828 [==============================] - 3s 1ms/step - loss: 0.1705 - accuracy: 0.7632 - val_loss: 0.1719 - val_accuracy: 0.7660\n",
      "Epoch 100/100\n",
      "1828/1828 [==============================] - 3s 1ms/step - loss: 0.1705 - accuracy: 0.7603 - val_loss: 0.1719 - val_accuracy: 0.7614\n"
     ]
    }
   ],
   "source": [
    "# using keras denoise autoencoder\n",
    "\n",
    "input_dim = x.shape[1]\n",
    "encoding_dim = 14\n",
    "input_layer = Input(shape=(input_dim, ))\n",
    "encoder = Dense(encoding_dim, activation=\"tanh\", activity_regularizer=regularizers.l1(10e-5))(input_layer)\n",
    "encoder = Dense(int(encoding_dim / 2), activation=\"relu\")(encoder)\n",
    "decoder = Dense(int(encoding_dim / 2), activation='tanh')(encoder)\n",
    "decoder = Dense(input_dim, activation='relu')(decoder)\n",
    "\n",
    "autoencoder = Model(inputs=input_layer, outputs=decoder)\n",
    "autoencoder.compile(optimizer='adam', \n",
    "                    loss='mean_squared_error', \n",
    "                    metrics=['accuracy'])\n",
    "\n",
    "checkpointer = ModelCheckpoint(filepath=\"model.h5\",\n",
    "                               verbose=0,\n",
    "                               save_best_only=True)\n",
    "                    \n",
    "tensorboard = TensorBoard(log_dir='./logs',\n",
    "                          histogram_freq=0,\n",
    "                          write_graph=True,\n",
    "                          write_images=True)\n",
    "\n",
    "history = autoencoder.fit(X_train, X_train,\n",
    "                    epochs=100,\n",
    "                    batch_size=32,\n",
    "                    shuffle=True,\n",
    "                    validation_data=(X_test, X_test),\n",
    "                    verbose=1,\n",
    "                    callbacks=[checkpointer, tensorboard]).history"
   ]
  },
  {
   "cell_type": "code",
   "execution_count": null,
   "metadata": {
    "colab": {
     "base_uri": "https://localhost:8080/",
     "height": 226
    },
    "colab_type": "code",
    "id": "Osz2A2SSpQFm",
    "outputId": "901ce73d-b01f-4b62-8537-ca4222aa7806"
   },
   "outputs": [
    {
     "data": {
      "text/html": [
       "<div>\n",
       "<style scoped>\n",
       "    .dataframe tbody tr th:only-of-type {\n",
       "        vertical-align: middle;\n",
       "    }\n",
       "\n",
       "    .dataframe tbody tr th {\n",
       "        vertical-align: top;\n",
       "    }\n",
       "\n",
       "    .dataframe thead th {\n",
       "        text-align: right;\n",
       "    }\n",
       "</style>\n",
       "<table border=\"1\" class=\"dataframe\">\n",
       "  <thead>\n",
       "    <tr style=\"text-align: right;\">\n",
       "      <th></th>\n",
       "      <th>0</th>\n",
       "      <th>1</th>\n",
       "      <th>2</th>\n",
       "      <th>3</th>\n",
       "      <th>4</th>\n",
       "      <th>5</th>\n",
       "      <th>6</th>\n",
       "      <th>7</th>\n",
       "      <th>8</th>\n",
       "      <th>9</th>\n",
       "      <th>10</th>\n",
       "      <th>11</th>\n",
       "      <th>12</th>\n",
       "      <th>13</th>\n",
       "      <th>14</th>\n",
       "      <th>15</th>\n",
       "      <th>16</th>\n",
       "      <th>17</th>\n",
       "      <th>18</th>\n",
       "      <th>19</th>\n",
       "      <th>20</th>\n",
       "      <th>21</th>\n",
       "      <th>22</th>\n",
       "      <th>23</th>\n",
       "      <th>24</th>\n",
       "      <th>25</th>\n",
       "      <th>26</th>\n",
       "      <th>27</th>\n",
       "      <th>28</th>\n",
       "      <th>29</th>\n",
       "      <th>30</th>\n",
       "      <th>31</th>\n",
       "      <th>32</th>\n",
       "      <th>33</th>\n",
       "      <th>34</th>\n",
       "      <th>35</th>\n",
       "      <th>36</th>\n",
       "      <th>37</th>\n",
       "      <th>38</th>\n",
       "      <th>39</th>\n",
       "      <th>40</th>\n",
       "      <th>41</th>\n",
       "      <th>42</th>\n",
       "      <th>43</th>\n",
       "      <th>44</th>\n",
       "      <th>45</th>\n",
       "      <th>46</th>\n",
       "      <th>47</th>\n",
       "      <th>48</th>\n",
       "      <th>49</th>\n",
       "      <th>50</th>\n",
       "      <th>51</th>\n",
       "      <th>52</th>\n",
       "      <th>53</th>\n",
       "      <th>54</th>\n",
       "      <th>55</th>\n",
       "      <th>56</th>\n",
       "      <th>57</th>\n",
       "      <th>58</th>\n",
       "      <th>59</th>\n",
       "      <th>60</th>\n",
       "      <th>61</th>\n",
       "      <th>62</th>\n",
       "      <th>63</th>\n",
       "      <th>64</th>\n",
       "      <th>65</th>\n",
       "      <th>66</th>\n",
       "      <th>67</th>\n",
       "    </tr>\n",
       "  </thead>\n",
       "  <tbody>\n",
       "    <tr>\n",
       "      <th>0</th>\n",
       "      <td>0.037475</td>\n",
       "      <td>0.000000</td>\n",
       "      <td>0.0</td>\n",
       "      <td>2.530036</td>\n",
       "      <td>0.000000</td>\n",
       "      <td>0.000000</td>\n",
       "      <td>0.000000</td>\n",
       "      <td>0.000000</td>\n",
       "      <td>0.000000</td>\n",
       "      <td>0.833727</td>\n",
       "      <td>0.384560</td>\n",
       "      <td>0.000000</td>\n",
       "      <td>1.063654</td>\n",
       "      <td>1.382923</td>\n",
       "      <td>0.000000</td>\n",
       "      <td>0.358818</td>\n",
       "      <td>0.0</td>\n",
       "      <td>0.0</td>\n",
       "      <td>0.027599</td>\n",
       "      <td>0.126914</td>\n",
       "      <td>0.000000</td>\n",
       "      <td>0.000000</td>\n",
       "      <td>0.047334</td>\n",
       "      <td>0.000000</td>\n",
       "      <td>0.133199</td>\n",
       "      <td>0.0</td>\n",
       "      <td>0.0</td>\n",
       "      <td>0.111017</td>\n",
       "      <td>0.799847</td>\n",
       "      <td>0.000000</td>\n",
       "      <td>0.0</td>\n",
       "      <td>0.000000</td>\n",
       "      <td>0.000000</td>\n",
       "      <td>0.000000</td>\n",
       "      <td>0.210456</td>\n",
       "      <td>0.0</td>\n",
       "      <td>0.114532</td>\n",
       "      <td>0.482292</td>\n",
       "      <td>0.056243</td>\n",
       "      <td>1.045971</td>\n",
       "      <td>0.000000</td>\n",
       "      <td>0.0</td>\n",
       "      <td>0.985879</td>\n",
       "      <td>0.021210</td>\n",
       "      <td>0.000000</td>\n",
       "      <td>0.834758</td>\n",
       "      <td>0.0</td>\n",
       "      <td>0.140608</td>\n",
       "      <td>1.251045</td>\n",
       "      <td>0.000000</td>\n",
       "      <td>0.0</td>\n",
       "      <td>0.000000</td>\n",
       "      <td>0.0</td>\n",
       "      <td>0.0</td>\n",
       "      <td>0.0</td>\n",
       "      <td>0.0</td>\n",
       "      <td>0.00000</td>\n",
       "      <td>0.00000</td>\n",
       "      <td>0.0</td>\n",
       "      <td>0.0</td>\n",
       "      <td>0.156051</td>\n",
       "      <td>0.218863</td>\n",
       "      <td>0.253862</td>\n",
       "      <td>0.192759</td>\n",
       "      <td>0.178450</td>\n",
       "      <td>0.936938</td>\n",
       "      <td>0.112541</td>\n",
       "      <td>0.0</td>\n",
       "    </tr>\n",
       "    <tr>\n",
       "      <th>1</th>\n",
       "      <td>0.540179</td>\n",
       "      <td>0.000000</td>\n",
       "      <td>0.0</td>\n",
       "      <td>0.000000</td>\n",
       "      <td>0.948258</td>\n",
       "      <td>0.000000</td>\n",
       "      <td>1.183059</td>\n",
       "      <td>0.866081</td>\n",
       "      <td>0.948710</td>\n",
       "      <td>1.012490</td>\n",
       "      <td>0.000000</td>\n",
       "      <td>0.000000</td>\n",
       "      <td>0.000000</td>\n",
       "      <td>0.000000</td>\n",
       "      <td>0.867294</td>\n",
       "      <td>0.269725</td>\n",
       "      <td>0.0</td>\n",
       "      <td>0.0</td>\n",
       "      <td>0.038746</td>\n",
       "      <td>0.094177</td>\n",
       "      <td>0.000000</td>\n",
       "      <td>0.152473</td>\n",
       "      <td>0.043626</td>\n",
       "      <td>0.000000</td>\n",
       "      <td>0.232294</td>\n",
       "      <td>0.0</td>\n",
       "      <td>0.0</td>\n",
       "      <td>0.105887</td>\n",
       "      <td>0.903893</td>\n",
       "      <td>0.000000</td>\n",
       "      <td>0.0</td>\n",
       "      <td>0.076736</td>\n",
       "      <td>0.007168</td>\n",
       "      <td>0.000000</td>\n",
       "      <td>0.168725</td>\n",
       "      <td>0.0</td>\n",
       "      <td>0.157250</td>\n",
       "      <td>0.386539</td>\n",
       "      <td>0.044494</td>\n",
       "      <td>0.780253</td>\n",
       "      <td>0.239603</td>\n",
       "      <td>0.0</td>\n",
       "      <td>0.000000</td>\n",
       "      <td>0.007195</td>\n",
       "      <td>0.985518</td>\n",
       "      <td>0.832568</td>\n",
       "      <td>0.0</td>\n",
       "      <td>0.155790</td>\n",
       "      <td>0.936341</td>\n",
       "      <td>0.000000</td>\n",
       "      <td>0.0</td>\n",
       "      <td>0.970883</td>\n",
       "      <td>0.0</td>\n",
       "      <td>0.0</td>\n",
       "      <td>0.0</td>\n",
       "      <td>0.0</td>\n",
       "      <td>0.00000</td>\n",
       "      <td>0.06185</td>\n",
       "      <td>0.0</td>\n",
       "      <td>0.0</td>\n",
       "      <td>0.145409</td>\n",
       "      <td>0.165634</td>\n",
       "      <td>0.239561</td>\n",
       "      <td>0.224335</td>\n",
       "      <td>0.225465</td>\n",
       "      <td>0.000000</td>\n",
       "      <td>1.018506</td>\n",
       "      <td>0.0</td>\n",
       "    </tr>\n",
       "    <tr>\n",
       "      <th>2</th>\n",
       "      <td>1.904014</td>\n",
       "      <td>0.000000</td>\n",
       "      <td>0.0</td>\n",
       "      <td>0.000000</td>\n",
       "      <td>0.000000</td>\n",
       "      <td>0.000000</td>\n",
       "      <td>0.000000</td>\n",
       "      <td>0.000000</td>\n",
       "      <td>0.000000</td>\n",
       "      <td>0.833667</td>\n",
       "      <td>0.000000</td>\n",
       "      <td>0.000000</td>\n",
       "      <td>1.277025</td>\n",
       "      <td>1.518919</td>\n",
       "      <td>0.000000</td>\n",
       "      <td>0.124945</td>\n",
       "      <td>0.0</td>\n",
       "      <td>0.0</td>\n",
       "      <td>0.055120</td>\n",
       "      <td>0.112036</td>\n",
       "      <td>0.882321</td>\n",
       "      <td>0.000000</td>\n",
       "      <td>0.075539</td>\n",
       "      <td>0.000000</td>\n",
       "      <td>0.026949</td>\n",
       "      <td>0.0</td>\n",
       "      <td>0.0</td>\n",
       "      <td>0.095310</td>\n",
       "      <td>1.089219</td>\n",
       "      <td>0.000000</td>\n",
       "      <td>0.0</td>\n",
       "      <td>0.431918</td>\n",
       "      <td>0.031276</td>\n",
       "      <td>0.000000</td>\n",
       "      <td>0.193691</td>\n",
       "      <td>0.0</td>\n",
       "      <td>0.077656</td>\n",
       "      <td>0.148290</td>\n",
       "      <td>0.050995</td>\n",
       "      <td>0.803622</td>\n",
       "      <td>0.000000</td>\n",
       "      <td>0.0</td>\n",
       "      <td>1.009032</td>\n",
       "      <td>0.021706</td>\n",
       "      <td>0.000000</td>\n",
       "      <td>0.816393</td>\n",
       "      <td>0.0</td>\n",
       "      <td>0.157445</td>\n",
       "      <td>0.850981</td>\n",
       "      <td>0.000000</td>\n",
       "      <td>0.0</td>\n",
       "      <td>0.000000</td>\n",
       "      <td>0.0</td>\n",
       "      <td>0.0</td>\n",
       "      <td>0.0</td>\n",
       "      <td>0.0</td>\n",
       "      <td>1.04425</td>\n",
       "      <td>0.00000</td>\n",
       "      <td>0.0</td>\n",
       "      <td>0.0</td>\n",
       "      <td>0.168453</td>\n",
       "      <td>0.255409</td>\n",
       "      <td>0.224028</td>\n",
       "      <td>0.178976</td>\n",
       "      <td>0.173591</td>\n",
       "      <td>0.000000</td>\n",
       "      <td>0.876900</td>\n",
       "      <td>0.0</td>\n",
       "    </tr>\n",
       "    <tr>\n",
       "      <th>3</th>\n",
       "      <td>0.000000</td>\n",
       "      <td>1.408746</td>\n",
       "      <td>0.0</td>\n",
       "      <td>0.000000</td>\n",
       "      <td>0.000000</td>\n",
       "      <td>0.000000</td>\n",
       "      <td>1.147522</td>\n",
       "      <td>0.000000</td>\n",
       "      <td>0.000000</td>\n",
       "      <td>0.962711</td>\n",
       "      <td>1.305425</td>\n",
       "      <td>0.000000</td>\n",
       "      <td>1.241254</td>\n",
       "      <td>0.000000</td>\n",
       "      <td>0.000000</td>\n",
       "      <td>0.255472</td>\n",
       "      <td>0.0</td>\n",
       "      <td>0.0</td>\n",
       "      <td>0.000000</td>\n",
       "      <td>0.000000</td>\n",
       "      <td>0.000000</td>\n",
       "      <td>0.000000</td>\n",
       "      <td>0.096487</td>\n",
       "      <td>0.037478</td>\n",
       "      <td>0.127700</td>\n",
       "      <td>0.0</td>\n",
       "      <td>0.0</td>\n",
       "      <td>0.056592</td>\n",
       "      <td>0.000000</td>\n",
       "      <td>0.962013</td>\n",
       "      <td>0.0</td>\n",
       "      <td>0.000000</td>\n",
       "      <td>0.065132</td>\n",
       "      <td>0.142460</td>\n",
       "      <td>0.272022</td>\n",
       "      <td>0.0</td>\n",
       "      <td>0.124187</td>\n",
       "      <td>0.191370</td>\n",
       "      <td>0.073377</td>\n",
       "      <td>0.792386</td>\n",
       "      <td>0.060562</td>\n",
       "      <td>0.0</td>\n",
       "      <td>0.000000</td>\n",
       "      <td>0.030523</td>\n",
       "      <td>1.005067</td>\n",
       "      <td>0.802491</td>\n",
       "      <td>0.0</td>\n",
       "      <td>0.165764</td>\n",
       "      <td>0.164464</td>\n",
       "      <td>0.943328</td>\n",
       "      <td>0.0</td>\n",
       "      <td>0.000000</td>\n",
       "      <td>0.0</td>\n",
       "      <td>0.0</td>\n",
       "      <td>0.0</td>\n",
       "      <td>0.0</td>\n",
       "      <td>0.00000</td>\n",
       "      <td>0.00000</td>\n",
       "      <td>0.0</td>\n",
       "      <td>0.0</td>\n",
       "      <td>0.275709</td>\n",
       "      <td>0.222703</td>\n",
       "      <td>0.156298</td>\n",
       "      <td>0.189950</td>\n",
       "      <td>0.155586</td>\n",
       "      <td>0.000000</td>\n",
       "      <td>0.970615</td>\n",
       "      <td>0.0</td>\n",
       "    </tr>\n",
       "    <tr>\n",
       "      <th>4</th>\n",
       "      <td>0.000000</td>\n",
       "      <td>0.000000</td>\n",
       "      <td>0.0</td>\n",
       "      <td>0.000000</td>\n",
       "      <td>0.173428</td>\n",
       "      <td>0.627774</td>\n",
       "      <td>0.470177</td>\n",
       "      <td>0.414846</td>\n",
       "      <td>0.253278</td>\n",
       "      <td>0.984369</td>\n",
       "      <td>0.000000</td>\n",
       "      <td>0.627563</td>\n",
       "      <td>0.000000</td>\n",
       "      <td>0.000000</td>\n",
       "      <td>0.375600</td>\n",
       "      <td>0.288079</td>\n",
       "      <td>0.0</td>\n",
       "      <td>0.0</td>\n",
       "      <td>0.000000</td>\n",
       "      <td>0.035656</td>\n",
       "      <td>0.000000</td>\n",
       "      <td>0.000000</td>\n",
       "      <td>0.103893</td>\n",
       "      <td>0.107679</td>\n",
       "      <td>0.191400</td>\n",
       "      <td>0.0</td>\n",
       "      <td>0.0</td>\n",
       "      <td>0.069725</td>\n",
       "      <td>0.000000</td>\n",
       "      <td>1.007977</td>\n",
       "      <td>0.0</td>\n",
       "      <td>0.000000</td>\n",
       "      <td>0.054532</td>\n",
       "      <td>0.112259</td>\n",
       "      <td>0.297073</td>\n",
       "      <td>0.0</td>\n",
       "      <td>0.134865</td>\n",
       "      <td>0.290981</td>\n",
       "      <td>0.042848</td>\n",
       "      <td>0.804089</td>\n",
       "      <td>0.156283</td>\n",
       "      <td>0.0</td>\n",
       "      <td>0.000000</td>\n",
       "      <td>0.021303</td>\n",
       "      <td>0.993182</td>\n",
       "      <td>0.820998</td>\n",
       "      <td>0.0</td>\n",
       "      <td>0.153494</td>\n",
       "      <td>0.399207</td>\n",
       "      <td>0.566176</td>\n",
       "      <td>0.0</td>\n",
       "      <td>0.000000</td>\n",
       "      <td>0.0</td>\n",
       "      <td>0.0</td>\n",
       "      <td>0.0</td>\n",
       "      <td>0.0</td>\n",
       "      <td>0.00000</td>\n",
       "      <td>0.00000</td>\n",
       "      <td>0.0</td>\n",
       "      <td>0.0</td>\n",
       "      <td>0.178359</td>\n",
       "      <td>0.153034</td>\n",
       "      <td>0.217738</td>\n",
       "      <td>0.198580</td>\n",
       "      <td>0.252820</td>\n",
       "      <td>0.000000</td>\n",
       "      <td>1.033059</td>\n",
       "      <td>0.0</td>\n",
       "    </tr>\n",
       "  </tbody>\n",
       "</table>\n",
       "</div>"
      ],
      "text/plain": [
       "         0         1    2         3   ...        64        65        66   67\n",
       "0  0.037475  0.000000  0.0  2.530036  ...  0.178450  0.936938  0.112541  0.0\n",
       "1  0.540179  0.000000  0.0  0.000000  ...  0.225465  0.000000  1.018506  0.0\n",
       "2  1.904014  0.000000  0.0  0.000000  ...  0.173591  0.000000  0.876900  0.0\n",
       "3  0.000000  1.408746  0.0  0.000000  ...  0.155586  0.000000  0.970615  0.0\n",
       "4  0.000000  0.000000  0.0  0.000000  ...  0.252820  0.000000  1.033059  0.0\n",
       "\n",
       "[5 rows x 68 columns]"
      ]
     },
     "execution_count": 24,
     "metadata": {
      "tags": []
     },
     "output_type": "execute_result"
    }
   ],
   "source": [
    "# lets get our noiseless data.\n",
    "predictions = autoencoder.predict(X_train)\n",
    "x_auto = pd.DataFrame(predictions)\n",
    "x_auto.head()"
   ]
  },
  {
   "cell_type": "code",
   "execution_count": null,
   "metadata": {
    "colab": {
     "base_uri": "https://localhost:8080/",
     "height": 530
    },
    "colab_type": "code",
    "id": "--WxXNdIOIiw",
    "outputId": "d19a6a98-b62e-491d-c5a3-2edd493d6ed9"
   },
   "outputs": [
    {
     "data": {
      "text/plain": [
       "<matplotlib.legend.Legend at 0x7ffa08257be0>"
      ]
     },
     "execution_count": 19,
     "metadata": {
      "tags": []
     },
     "output_type": "execute_result"
    },
    {
     "data": {
      "image/png": "[encoded data removed]",
      "text/plain": [
       "<Figure size 864x576 with 1 Axes>"
      ]
     },
     "metadata": {
      "needs_background": "light",
      "tags": []
     },
     "output_type": "display_data"
    }
   ],
   "source": [
    "# evaluation\n",
    "plt.figure(figsize = (12, 8))\n",
    "plt.plot(history['loss'])\n",
    "plt.plot(history['val_loss'])\n",
    "plt.title('model loss')\n",
    "plt.ylabel('loss')\n",
    "plt.xlabel('epoch')\n",
    "plt.legend(['train', 'test'], loc='upper right')"
   ]
  },
  {
   "cell_type": "markdown",
   "metadata": {
    "colab_type": "text",
    "id": "md-Ky1ApOYKH"
   },
   "source": [
    "The 2 converge nicely."
   ]
  },
  {
   "cell_type": "code",
   "execution_count": null,
   "metadata": {
    "colab": {
     "base_uri": "https://localhost:8080/",
     "height": 300
    },
    "colab_type": "code",
    "id": "4rDyv3JHR9x5",
    "outputId": "75aae7fb-325d-4668-8d73-054864ad03c1"
   },
   "outputs": [
    {
     "data": {
      "text/html": [
       "<div>\n",
       "<style scoped>\n",
       "    .dataframe tbody tr th:only-of-type {\n",
       "        vertical-align: middle;\n",
       "    }\n",
       "\n",
       "    .dataframe tbody tr th {\n",
       "        vertical-align: top;\n",
       "    }\n",
       "\n",
       "    .dataframe thead th {\n",
       "        text-align: right;\n",
       "    }\n",
       "</style>\n",
       "<table border=\"1\" class=\"dataframe\">\n",
       "  <thead>\n",
       "    <tr style=\"text-align: right;\">\n",
       "      <th></th>\n",
       "      <th>reconstruction_error</th>\n",
       "      <th>true_class</th>\n",
       "    </tr>\n",
       "  </thead>\n",
       "  <tbody>\n",
       "    <tr>\n",
       "      <th>count</th>\n",
       "      <td>14620.000000</td>\n",
       "      <td>14620.000000</td>\n",
       "    </tr>\n",
       "    <tr>\n",
       "      <th>mean</th>\n",
       "      <td>0.171422</td>\n",
       "      <td>0.503010</td>\n",
       "    </tr>\n",
       "    <tr>\n",
       "      <th>std</th>\n",
       "      <td>0.083988</td>\n",
       "      <td>0.500008</td>\n",
       "    </tr>\n",
       "    <tr>\n",
       "      <th>min</th>\n",
       "      <td>0.029085</td>\n",
       "      <td>0.000000</td>\n",
       "    </tr>\n",
       "    <tr>\n",
       "      <th>25%</th>\n",
       "      <td>0.087725</td>\n",
       "      <td>0.000000</td>\n",
       "    </tr>\n",
       "    <tr>\n",
       "      <th>50%</th>\n",
       "      <td>0.186076</td>\n",
       "      <td>1.000000</td>\n",
       "    </tr>\n",
       "    <tr>\n",
       "      <th>75%</th>\n",
       "      <td>0.249099</td>\n",
       "      <td>1.000000</td>\n",
       "    </tr>\n",
       "    <tr>\n",
       "      <th>max</th>\n",
       "      <td>0.394333</td>\n",
       "      <td>1.000000</td>\n",
       "    </tr>\n",
       "  </tbody>\n",
       "</table>\n",
       "</div>"
      ],
      "text/plain": [
       "       reconstruction_error    true_class\n",
       "count          14620.000000  14620.000000\n",
       "mean               0.171422      0.503010\n",
       "std                0.083988      0.500008\n",
       "min                0.029085      0.000000\n",
       "25%                0.087725      0.000000\n",
       "50%                0.186076      1.000000\n",
       "75%                0.249099      1.000000\n",
       "max                0.394333      1.000000"
      ]
     },
     "execution_count": 20,
     "metadata": {
      "tags": []
     },
     "output_type": "execute_result"
    }
   ],
   "source": [
    "# close evaluation\n",
    "predictions = autoencoder.predict(X_test)\n",
    "mse = np.mean(np.power(X_test - predictions, 2), axis=1)\n",
    "error_df = pd.DataFrame({'reconstruction_error': mse,\n",
    "                        'true_class': y_test.y})\n",
    "error_df.describe()"
   ]
  },
  {
   "cell_type": "markdown",
   "metadata": {
    "colab_type": "text",
    "id": "aNeIQCmXq54z"
   },
   "source": [
    "The loss looks low enough."
   ]
  },
  {
   "cell_type": "code",
   "execution_count": null,
   "metadata": {
    "colab": {
     "base_uri": "https://localhost:8080/",
     "height": 265
    },
    "colab_type": "code",
    "id": "JA_RrAHwTL9G",
    "outputId": "bec7af0a-5b45-4af3-f79d-6abf2a60bcbb"
   },
   "outputs": [
    {
     "data": {
      "image/png": "[encoded data removed]",
      "text/plain": [
       "<Figure size 432x288 with 1 Axes>"
      ]
     },
     "metadata": {
      "needs_background": "light",
      "tags": []
     },
     "output_type": "display_data"
    }
   ],
   "source": [
    "# reconstruction error with subscription\n",
    "fig = plt.figure()\n",
    "ax = fig.add_subplot(111)\n",
    "normal_error_df = error_df[(error_df['true_class']== 1) & (error_df['reconstruction_error'] < 10)]\n",
    "_ = ax.hist(normal_error_df.reconstruction_error.values, bins=10)"
   ]
  },
  {
   "cell_type": "code",
   "execution_count": null,
   "metadata": {
    "colab": {
     "base_uri": "https://localhost:8080/",
     "height": 265
    },
    "colab_type": "code",
    "id": "pXd7-orHTdnH",
    "outputId": "8e4a498e-bf16-4508-fb70-9e5ef82e5b21"
   },
   "outputs": [
    {
     "data": {
      "image/png": "[encoded data removed]",
      "text/plain": [
       "<Figure size 432x288 with 1 Axes>"
      ]
     },
     "metadata": {
      "needs_background": "light",
      "tags": []
     },
     "output_type": "display_data"
    }
   ],
   "source": [
    "# reconstruction error without subscription\n",
    "fig = plt.figure()\n",
    "ax = fig.add_subplot(111)\n",
    "normal_error_df = error_df[(error_df['true_class']== 0) & (error_df['reconstruction_error'] < 10)]\n",
    "_ = ax.hist(normal_error_df.reconstruction_error.values, bins=10)"
   ]
  },
  {
   "cell_type": "markdown",
   "metadata": {
    "colab_type": "text",
    "id": "ZytJ1CoCvn0D"
   },
   "source": [
    "Not really useful in our case."
   ]
  },
  {
   "cell_type": "markdown",
   "metadata": {
    "colab_type": "text",
    "id": "kuZxhmQcVADz"
   },
   "source": [
    "## 4. Train and Test sets"
   ]
  },
  {
   "cell_type": "code",
   "execution_count": null,
   "metadata": {
    "colab": {
     "base_uri": "https://localhost:8080/",
     "height": 34
    },
    "colab_type": "code",
    "id": "CdslKoT8VEd4",
    "outputId": "5eec3f48-64f3-42a6-9365-4f1216d685f9"
   },
   "outputs": [
    {
     "data": {
      "text/plain": [
       "((65786, 68), (65786, 1), (7310, 68), (7310, 1))"
      ]
     },
     "execution_count": 84,
     "metadata": {
      "tags": []
     },
     "output_type": "execute_result"
    }
   ],
   "source": [
    "# on original dataset\n",
    "x_train, x_test, y_train, y_test = train_test_split(x, y, test_size = 0.10, random_state = 42)\n",
    "x_train.shape, y_train.shape, x_test.shape, y_test.shape"
   ]
  },
  {
   "cell_type": "code",
   "execution_count": null,
   "metadata": {
    "colab": {
     "base_uri": "https://localhost:8080/",
     "height": 34
    },
    "colab_type": "code",
    "id": "19hlGei8Yef7",
    "outputId": "620b10ff-01e9-46d0-90d1-01537ca74bcb"
   },
   "outputs": [
    {
     "data": {
      "text/plain": [
       "((65786, 8), (65786, 1), (7310, 8), (7310, 1))"
      ]
     },
     "execution_count": 85,
     "metadata": {
      "tags": []
     },
     "output_type": "execute_result"
    }
   ],
   "source": [
    "# on pca transformed dataset\n",
    "x_train_pca, x_test, y_train, y_test = train_test_split(x_pca, y, test_size = 0.10, random_state = 42)\n",
    "x_train_pca.shape, y_train.shape, x_test.shape, y_test.shape"
   ]
  },
  {
   "cell_type": "code",
   "execution_count": null,
   "metadata": {
    "colab": {
     "base_uri": "https://localhost:8080/",
     "height": 34
    },
    "colab_type": "code",
    "id": "9I2OucmeYenw",
    "outputId": "d2c910f0-d8c7-4e49-d6af-352be15b7f33"
   },
   "outputs": [
    {
     "data": {
      "text/plain": [
       "((65786, 2), (65786, 1), (7310, 2), (7310, 1))"
      ]
     },
     "execution_count": 86,
     "metadata": {
      "tags": []
     },
     "output_type": "execute_result"
    }
   ],
   "source": [
    "# on tsne (with pca) dataset\n",
    "x_train_tsne_pca, x_test, y_train, y_test = train_test_split(x_tsne_pca, y, test_size = 0.10, random_state = 42)\n",
    "x_train_tsne_pca.shape, y_train.shape, x_test.shape, y_test.shape"
   ]
  },
  {
   "cell_type": "code",
   "execution_count": null,
   "metadata": {
    "colab": {
     "base_uri": "https://localhost:8080/",
     "height": 34
    },
    "colab_type": "code",
    "id": "pREcVCKKYjDC",
    "outputId": "1d46c3aa-6a1b-4557-c707-6bd668e2ba6d"
   },
   "outputs": [
    {
     "data": {
      "text/plain": [
       "((65786, 2), (65786, 1), (7310, 2), (7310, 1))"
      ]
     },
     "execution_count": 87,
     "metadata": {
      "tags": []
     },
     "output_type": "execute_result"
    }
   ],
   "source": [
    "# on tsne standalone dataset\n",
    "x_train_tsne, x_test, y_train, y_test = train_test_split(x_tsne_org, y, test_size = 0.10, random_state = 42)\n",
    "x_train_tsne.shape, y_train.shape, x_test.shape, y_test.shape"
   ]
  },
  {
   "cell_type": "code",
   "execution_count": null,
   "metadata": {
    "colab": {},
    "colab_type": "code",
    "id": "nF3H3_JsrJX4"
   },
   "outputs": [],
   "source": [
    "# # on autoencoded dataset\n",
    "# x_train_auto, x_test, y_train, y_test = train_test_split(x_auto, y, test_size = 0.10, random_state = 42)\n",
    "# x_train_auto.shape, y_train.shape, x_test.shape, y_test.shape"
   ]
  },
  {
   "cell_type": "markdown",
   "metadata": {
    "colab_type": "text",
    "id": "UBZF58d1RVQV"
   },
   "source": [
    "## 5. Modeling"
   ]
  },
  {
   "cell_type": "markdown",
   "metadata": {
    "colab_type": "text",
    "id": "H2Y2shIgwVDh"
   },
   "source": [
    "Training algorithms to predict the labels from the predictor features.\n",
    "\n",
    "Models explored:\n",
    "\n",
    "* Linear Models\n",
    "* Boosters\n",
    "* Neural Nets\n",
    "* Ensemble based Models\n",
    "* Naive Bayes\n",
    "* Stacked Model\n",
    "\n",
    "\n",
    "***Cross-validation*** is a resampling procedure used to evaluate machine learning models on a limited data sample. The default scoring parameter is **accuracy**.\n",
    "\n",
    "Techniques: \n",
    "1.  **K-fold**: K-Fold CV is where a given data set is split into a K number of sections/folds where each fold is used as a testing set at some point and the rest as the training set.\n",
    "2.  **Stratified K-fold**: StratifiedKFold shuffles the data, then splits it into n_folds parts then the folds are each used as a testing set.\n",
    "\n",
    "  Stratification keeps the balance between targets of the dataset. (each stratified subsample should keep the same ratio of the target classes).This strategy often makes the models more stable for subsamples especially in cases of imbalanced data.\n",
    "\n"
   ]
  },
  {
   "cell_type": "code",
   "execution_count": null,
   "metadata": {
    "colab": {},
    "colab_type": "code",
    "id": "cEfLhnSZZnLU"
   },
   "outputs": [],
   "source": [
    "# kfold\n",
    "kf = KFold(n_splits=10, random_state = 42)\n",
    "def overall_score(model, x_train):\n",
    "  accuracy = cross_val_score(estimator = model, X = x_train, y = y_train, cv = kf)\n",
    "  return accuracy.mean()\n",
    "\n",
    "#stratified\n",
    "cv = StratifiedKFold(n_splits=10, random_state=42)\n",
    "def overall__stratified_score(model, x_train):\n",
    "  accuracy = cross_val_score(estimator = model, X = x_train, y = y_train, cv = cv)\n",
    "  return accuracy.mean()"
   ]
  },
  {
   "cell_type": "markdown",
   "metadata": {
    "colab_type": "text",
    "id": "H-5o9giyd_pS"
   },
   "source": [
    "### 5.1 Linear Models\n",
    "\n",
    "> A linear classifier makes a classification decision based on the value of a linear combination of the features.\n",
    "\n",
    "\n",
    "\n"
   ]
  },
  {
   "cell_type": "markdown",
   "metadata": {
    "colab_type": "text",
    "id": "OJnGVb8KV5tX"
   },
   "source": [
    "#### 5.1.1 Logistic Regression\n",
    "\n",
    "> To predict group membership, LR uses the log odds ratio rather than probabilities and an iterative maximum likelihood method rather than a least squares to fit the final model. [Read more](https://www.sciencedirect.com/topics/medicine-and-dentistry/logistic-regression-analysis)"
   ]
  },
  {
   "cell_type": "code",
   "execution_count": null,
   "metadata": {
    "colab": {
     "base_uri": "https://localhost:8080/",
     "height": 52
    },
    "colab_type": "code",
    "id": "RU4yRYCayMBe",
    "outputId": "2a91b267-15b5-4a7e-b7dd-a25a89226700"
   },
   "outputs": [
    {
     "name": "stdout",
     "output_type": "stream",
     "text": [
      "0.742696036755032\n",
      "{'C': 1000, 'penalty': 'l2'}\n"
     ]
    }
   ],
   "source": [
    "# using grid search to find optimal parameters\n",
    "regressor = LogisticRegression()\n",
    "grid_values = {'penalty': ['l1','l2'], 'C': [0.001,0.01,0.1,1,10,100,1000]}\n",
    "model = GridSearchCV(regressor, param_grid=grid_values)\n",
    "\n",
    "model.fit(x_train,y_train)\n",
    "print(model.best_score_)\n",
    "print(model.best_params_)"
   ]
  },
  {
   "cell_type": "code",
   "execution_count": null,
   "metadata": {
    "colab": {
     "base_uri": "https://localhost:8080/",
     "height": 156
    },
    "colab_type": "code",
    "id": "FReJHauIRkEd",
    "outputId": "438937b2-ce9b-4433-f0b0-f55aa7023fcb"
   },
   "outputs": [
    {
     "name": "stdout",
     "output_type": "stream",
     "text": [
      "Regressor mean score on the original dataset (kfold): 0.7424375220990933\n",
      "Regressor mean score on the pca transformed dataset (kfold): 0.7184505935323754\n",
      "Regressor mean score on the tsne with pca transformed dataset (kfold): 0.5311005594655152\n",
      "Regressor mean score on the tsne transformed dataset (kfold): 0.5577327567454254\n",
      "Regressor mean score on the original dataset (stratified kfold): 0.7420879248958712\n",
      "Regressor mean score on the pca transformed dataset (stratified kfold): 0.7185722087345832\n",
      "Regressor mean score on the tsne with pca transformed dataset (stratified kfold): 0.5328941797775439\n",
      "Regressor mean score on the tsne transformed dataset (stratified kfold): 0.5574135107740057\n"
     ]
    }
   ],
   "source": [
    "regressor = LogisticRegression(C = 1000, penalty= 'l2')\n",
    "\n",
    "# using kfolds\n",
    "# original dataset\n",
    "print('Regressor mean score on the original dataset (kfold):', overall_score(regressor, x_train))\n",
    "# pca transformed\n",
    "print('Regressor mean score on the pca transformed dataset (kfold):', overall_score(regressor, x_train_pca))\n",
    "#tsne with pca\n",
    "print('Regressor mean score on the tsne with pca transformed dataset (kfold):', overall_score(regressor, x_train_tsne_pca))\n",
    "# tsne solo\n",
    "print('Regressor mean score on the tsne transformed dataset (kfold):', overall_score(regressor, x_train_tsne))\n",
    "\n",
    "# stratified KFold\n",
    "# original dataset\n",
    "print('Regressor mean score on the original dataset (stratified kfold):', overall__stratified_score(regressor, x_train))\n",
    "# pca transformed\n",
    "print('Regressor mean score on the pca transformed dataset (stratified kfold):', overall__stratified_score(regressor, x_train_pca))\n",
    "#tsne with pca\n",
    "print('Regressor mean score on the tsne with pca transformed dataset (stratified kfold):', overall__stratified_score(regressor, x_train_tsne_pca))\n",
    "# tsne solo\n",
    "print('Regressor mean score on the tsne transformed dataset (stratified kfold):', overall__stratified_score(regressor, x_train_tsne))"
   ]
  },
  {
   "cell_type": "markdown",
   "metadata": {
    "colab_type": "text",
    "id": "wIO9JWSjfDjb"
   },
   "source": [
    "### 5.2 Boosters\n",
    "\n",
    "> ‘Boosting’ refers to a family of algorithms which converts weak learner to strong learners.To find weak rule, base learning (ML) algorithms with a different distribution is applied. Each time base learning algorithm is applied, it generates a new weak prediction rule. This is an iterative process. After many iterations, the boosting algorithm combines these weak rules into a single strong prediction rule. \n",
    "[Read more](https://www.analyticsvidhya.com/blog/2015/11/quick-introduction-boosting-algorithms-machine-learning/)"
   ]
  },
  {
   "cell_type": "markdown",
   "metadata": {
    "colab_type": "text",
    "id": "wcPeyJSzV8on"
   },
   "source": [
    "#### 5.2.2 XGBoost\n",
    "> In gradient boosting, it trains many model sequentially. Each new model gradually minimizes the loss function of the whole system using Gradient Descent method. The learning procedure consecutively fit new models to provide a more accurate estimate of the response variable.\n",
    " \n",
    "> XGBoost is an implementation of gradient boosted decision trees designed for speed and performance."
   ]
  },
  {
   "cell_type": "code",
   "execution_count": null,
   "metadata": {
    "colab": {
     "base_uri": "https://localhost:8080/",
     "height": 104
    },
    "colab_type": "code",
    "id": "xBAUz7q-usE5",
    "outputId": "eae6c663-57a1-431f-81b0-650b4bbd71a2"
   },
   "outputs": [
    {
     "name": "stdout",
     "output_type": "stream",
     "text": [
      "Fitting 5 folds for each of 9 candidates, totalling 45 fits\n"
     ]
    },
    {
     "name": "stderr",
     "output_type": "stream",
     "text": [
      "[Parallel(n_jobs=1)]: Using backend SequentialBackend with 1 concurrent workers.\n",
      "[Parallel(n_jobs=1)]: Done  45 out of  45 | elapsed:  9.5min finished\n"
     ]
    },
    {
     "name": "stdout",
     "output_type": "stream",
     "text": [
      "0.8025568097043732\n",
      "{'max_depth': 6, 'n_estimators': 200}\n"
     ]
    }
   ],
   "source": [
    "# using grid search to get the best parameters\n",
    "xgb = XGBClassifier(silent = True)\n",
    "optimization_dict = {'max_depth': [2,4,6],\n",
    "                     'n_estimators': [50,100,200]}\n",
    "\n",
    "model = GridSearchCV(xgb, optimization_dict, \n",
    "                     scoring='accuracy', verbose=1)\n",
    "\n",
    "model.fit(x_train,y_train)\n",
    "print(model.best_score_)\n",
    "print(model.best_params_)"
   ]
  },
  {
   "cell_type": "code",
   "execution_count": null,
   "metadata": {
    "colab": {
     "base_uri": "https://localhost:8080/",
     "height": 52
    },
    "colab_type": "code",
    "id": "JgNZo3rWWAgN",
    "outputId": "09d22104-5264-42bc-ac3b-660bbb7f1c10"
   },
   "outputs": [
    {
     "name": "stdout",
     "output_type": "stream",
     "text": [
      "xgb mean score on the original dataset (kfold): 0.8036663132660277\n",
      "xgb mean score on the original dataset (stratified kfold): 0.8034230551330415\n"
     ]
    }
   ],
   "source": [
    "xgb = XGBClassifier(silent = True,max_depth = 6, n_estimators = 200)\n",
    "\n",
    "# using kfolds\n",
    "print('xgb mean score on the original dataset (kfold):', overall_score(xgb, x_train))\n",
    "\n",
    "# stratified KFold\n",
    "print('xgb mean score on the original dataset (stratified kfold):', overall__stratified_score(xgb, x_train))"
   ]
  },
  {
   "cell_type": "markdown",
   "metadata": {
    "colab_type": "text",
    "id": "exFs2JOhw1Hn"
   },
   "source": [
    "#### 5.2.1 CatBoost\n",
    "> CatBoost is based on gradient boosting.It converts categorical values into numbers using various statistics on combinations of categorical features and combinations of categorical and numerical features."
   ]
  },
  {
   "cell_type": "code",
   "execution_count": null,
   "metadata": {
    "colab": {
     "base_uri": "https://localhost:8080/",
     "height": 156
    },
    "colab_type": "code",
    "id": "p935RKI1w1Qd",
    "outputId": "a0e6c979-40e5-409a-e90a-b52041cd8c6c"
   },
   "outputs": [
    {
     "name": "stdout",
     "output_type": "stream",
     "text": [
      "cat mean score on the original dataset (kfold): 0.8351015889349321\n",
      "cat mean score on the pca transformed dataset (kfold): 0.8219377085968415\n",
      "cat mean score on the tsne with pca transformed dataset (kfold): 0.7501441862590973\n",
      "cat mean score on the tsne transformed dataset (kfold): 0.7747543930259686\n",
      "cat mean score on the original dataset (stratified kfold): 0.8347064036500782\n",
      "cat mean score on the pca transformed dataset (stratified kfold): 0.8228802397005573\n",
      "cat mean score on the tsne with pca transformed dataset (stratified kfold): 0.7494906584985691\n",
      "cat mean score on the tsne transformed dataset (stratified kfold): 0.7753625476012914\n"
     ]
    }
   ],
   "source": [
    "cat = CatBoostClassifier(silent = True)\n",
    "\n",
    "# using kfolds\n",
    "# original dataset\n",
    "print('cat mean score on the original dataset (kfold):', overall_score(cat, x_train))\n",
    "# pca transformed\n",
    "print('cat mean score on the pca transformed dataset (kfold):', overall_score(cat, x_train_pca))\n",
    "#tsne with pca\n",
    "print('cat mean score on the tsne with pca transformed dataset (kfold):', overall_score(cat, x_train_tsne_pca))\n",
    "# tsne solo\n",
    "print('cat mean score on the tsne transformed dataset (kfold):', overall_score(cat, x_train_tsne))\n",
    "\n",
    "# stratified KFold\n",
    "# original dataset\n",
    "print('cat mean score on the original dataset (stratified kfold):', overall__stratified_score(cat, x_train))\n",
    "# pca transformed\n",
    "print('cat mean score on the pca transformed dataset (stratified kfold):', overall__stratified_score(cat, x_train_pca))\n",
    "#tsne with pca\n",
    "print('cat mean score on the tsne with pca transformed dataset (stratified kfold):', overall__stratified_score(cat, x_train_tsne_pca))\n",
    "# tsne solo\n",
    "print('cat mean score on the tsne transformed dataset (stratified kfold):', overall__stratified_score(cat, x_train_tsne))"
   ]
  },
  {
   "cell_type": "markdown",
   "metadata": {
    "colab_type": "text",
    "id": "F1ZAzfahtzWg"
   },
   "source": [
    "It is clear from these 2 models that the unreduced (original) data yields the best performance, thus in the follow up models, they'll be running only on the original data."
   ]
  },
  {
   "cell_type": "markdown",
   "metadata": {
    "colab_type": "text",
    "id": "KvxawNbKWLer"
   },
   "source": [
    "#### 5.2.3 AdaBoost\n",
    "\n",
    "> It fits a sequence of weak learners on different weighted training data. It starts by predicting original data set and gives equal weight to each observation. If prediction is incorrect using the first learner, then it gives higher weight to observation which have been predicted incorrectly. Being an iterative process, it continues to add learner(s) until a limit is reached in the number of models or accuracy."
   ]
  },
  {
   "cell_type": "code",
   "execution_count": null,
   "metadata": {
    "colab": {
     "base_uri": "https://localhost:8080/",
     "height": 52
    },
    "colab_type": "code",
    "id": "QUqSl_7cWOdV",
    "outputId": "bd15100b-c8a0-4f17-f22b-b0abdaee1e91"
   },
   "outputs": [
    {
     "name": "stdout",
     "output_type": "stream",
     "text": [
      "ada mean score on the original dataset (kfold): 0.7444287662481918\n",
      "ada mean score on the original dataset (stratified kfold): 0.7448240855544728\n"
     ]
    }
   ],
   "source": [
    "ada = AdaBoostClassifier()\n",
    "\n",
    "# using kfolds\n",
    "print('ada mean score on the original dataset (kfold):', overall_score(ada, x_train))\n",
    "\n",
    "# stratified KFold\n",
    "print('ada mean score on the original dataset (stratified kfold):', overall__stratified_score(ada, x_train))"
   ]
  },
  {
   "cell_type": "markdown",
   "metadata": {
    "colab_type": "text",
    "id": "mfoFzm3_WOm3"
   },
   "source": [
    "#### 5.2.4 LGBM\n",
    "\n",
    "> LightGBM improves on XGBoost. The LightGBM paper uses XGBoost as a baseline and outperforms it in training speed and the dataset sizes it can handle."
   ]
  },
  {
   "cell_type": "code",
   "execution_count": null,
   "metadata": {
    "colab": {
     "base_uri": "https://localhost:8080/",
     "height": 104
    },
    "colab_type": "code",
    "id": "zlNo--2zFLz8",
    "outputId": "e573b932-3d32-4987-898a-dd0f3079d2e0"
   },
   "outputs": [
    {
     "name": "stdout",
     "output_type": "stream",
     "text": [
      "Fitting 5 folds for each of 96 candidates, totalling 480 fits\n"
     ]
    },
    {
     "name": "stderr",
     "output_type": "stream",
     "text": [
      "[Parallel(n_jobs=1)]: Using backend SequentialBackend with 1 concurrent workers.\n",
      "[Parallel(n_jobs=1)]: Done 480 out of 480 | elapsed: 11.0min finished\n"
     ]
    },
    {
     "name": "stdout",
     "output_type": "stream",
     "text": [
      "0.8322743869063716\n",
      "{'lambda_l1': 0, 'lambda_l2': 0, 'min_data_in_leaf': 50, 'num_leaves': 120, 'reg_alpha': 0.1}\n"
     ]
    }
   ],
   "source": [
    "# using ridsearch to get the optimal parameters\n",
    "lgbm = LGBMClassifier()\n",
    "optimization_dict = {\n",
    "    'num_leaves': [40, 120],\n",
    "    'reg_alpha': [0.1, 0.5],\n",
    "    'min_data_in_leaf': [30, 50, 100, 300],\n",
    "    'lambda_l1': [0, 1, 1.5],\n",
    "    'lambda_l2': [0, 1]\n",
    "    }\n",
    "\n",
    "model = GridSearchCV(lgbm, optimization_dict, \n",
    "                     scoring='accuracy', verbose=1)\n",
    "\n",
    "model.fit(x_train,y_train)\n",
    "print(model.best_score_)\n",
    "print(model.best_params_)"
   ]
  },
  {
   "cell_type": "code",
   "execution_count": null,
   "metadata": {
    "colab": {
     "base_uri": "https://localhost:8080/",
     "height": 52
    },
    "colab_type": "code",
    "id": "9LWM8Lu0WX8F",
    "outputId": "626569cf-c2ce-44f1-d4b1-9066d216def8"
   },
   "outputs": [
    {
     "name": "stdout",
     "output_type": "stream",
     "text": [
      "lgbm mean score on the original dataset (kfold): 0.830784601640487\n",
      "lgbm mean score on the original dataset (stratified kfold): 0.830495790086583\n"
     ]
    }
   ],
   "source": [
    "from lightgbm import LGBMClassifier\n",
    "\n",
    "lgbm = LGBMClassifier(lambda_l1 = 0, lambda_l2 = 0, min_data_in_leaf = 50, num_leaves =120, reg_alpha = 0.1)\n",
    "\n",
    "# using kfolds\n",
    "print('lgbm mean score on the original dataset (kfold):', overall_score(lgbm, x_train))\n",
    "# stratified KFold\n",
    "print('lgbm mean score on the original dataset (stratified kfold):', overall__stratified_score(lgbm, x_train))"
   ]
  },
  {
   "cell_type": "markdown",
   "metadata": {
    "colab_type": "text",
    "id": "tZw1L_kBfYd-"
   },
   "source": [
    "### 5.3 Neural Nets\n",
    "> Neural networks are forecasting methods that are based on simple mathematical models of the brain. They allow complex nonlinear relationships between the response variable and its predictors."
   ]
  },
  {
   "cell_type": "markdown",
   "metadata": {
    "colab_type": "text",
    "id": "3IHDlO-RWApR"
   },
   "source": [
    "#### 5.3.1 MultiLayer Perceptron\n",
    "> A multilayer perceptron (MLP) is a class of feedforward artificial neural network. A MLP consists of at least three layers of nodes: an input layer, a hidden layer and an output layer. Except for the input nodes, each node is a neuron that uses a nonlinear activation function. MLP utilizes a supervised learning technique called backpropagation for training. Its multiple layers and non-linear activation distinguish MLP from a linear perceptron. It can distinguish data that is not linearly separable.\n",
    "\n"
   ]
  },
  {
   "cell_type": "code",
   "execution_count": null,
   "metadata": {
    "colab": {
     "base_uri": "https://localhost:8080/",
     "height": 52
    },
    "colab_type": "code",
    "id": "Z-4r2nSIWGoc",
    "outputId": "69792da0-8327-4d6f-a4a6-2f6518723c53"
   },
   "outputs": [
    {
     "name": "stdout",
     "output_type": "stream",
     "text": [
      "mlp mean score on the original dataset (kfold): 0.8281142465060725\n",
      "mlp mean score on the original dataset (stratified kfold): 0.8258342647656853\n"
     ]
    }
   ],
   "source": [
    "mlp = MLPClassifier()\n",
    "\n",
    "# using kfolds\n",
    "print('mlp mean score on the original dataset (kfold):', overall_score(mlp, x_train))\n",
    "# stratified KFold\n",
    "print('mlp mean score on the original dataset (stratified kfold):', overall__stratified_score(mlp, x_train))"
   ]
  },
  {
   "cell_type": "markdown",
   "metadata": {
    "colab_type": "text",
    "id": "WUgPncJHeVXv"
   },
   "source": [
    "### 5.4 Ensembling Models\n",
    "> Ensemble methods use multiple learning algorithms to obtain better predictive performance than could be obtained from any of the constituent learning algorithms alone."
   ]
  },
  {
   "cell_type": "markdown",
   "metadata": {
    "colab_type": "text",
    "id": "tXIlbFiHWYFn"
   },
   "source": [
    "#### 5.4.1 RandomForestClassifier\n",
    "\n",
    "> It fits a number of decision tree classifiers on various sub-samples of the dataset and uses averaging to improve the predictive accuracy and control over-fitting. [Read more](https://scikit-learn.org/stable/modules/generated/sklearn.ensemble.RandomForestClassifier.html)"
   ]
  },
  {
   "cell_type": "code",
   "execution_count": null,
   "metadata": {
    "colab": {},
    "colab_type": "code",
    "id": "m_FjsWe5WaaY"
   },
   "outputs": [],
   "source": [
    "\n",
    "forest = RandomForestClassifier()\n",
    "\n",
    "# using kfolds\n",
    "print('forest mean score on the original dataset (kfold):', overall_score(forest, x_train))\n",
    "# stratified KFold\n",
    "print('forest mean score on the original dataset (stratified kfold):', overall__stratified_score(forest, x_train))"
   ]
  },
  {
   "cell_type": "markdown",
   "metadata": {
    "colab_type": "text",
    "id": "-IQUGieif3SW"
   },
   "source": [
    "### 5.5 Naive Bayes\n",
    ">Naive Bayes classifiers are a family of simple \"probabilistic classifiers\" based on applying Bayes' theorem with strong independence assumptions between the features. "
   ]
  },
  {
   "cell_type": "markdown",
   "metadata": {
    "colab_type": "text",
    "id": "lbEK02Fp5Z_g"
   },
   "source": [
    "#### 5.5.1 Gaussan Naive Bayes\n",
    "> It's specifically used when the features have continuous values. It's also assumed that all the features are following a gaussian distribution."
   ]
  },
  {
   "cell_type": "code",
   "execution_count": null,
   "metadata": {
    "colab": {
     "base_uri": "https://localhost:8080/",
     "height": 52
    },
    "colab_type": "code",
    "id": "lZY3jeYr5aM5",
    "outputId": "2f87eb63-2713-4b71-b31f-d3426277221f"
   },
   "outputs": [
    {
     "name": "stdout",
     "output_type": "stream",
     "text": [
      "naive_bayes mean score on the original dataset (kfold): 0.7177817318720192\n",
      "naive_bayes mean score on the original dataset (stratified kfold): 0.7177361299261019\n"
     ]
    }
   ],
   "source": [
    "naive_bayes = GaussianNB()\n",
    "\n",
    "# using kfolds\n",
    "print('naive_bayes mean score on the original dataset (kfold):', overall_score(naive_bayes, x_train))\n",
    "# stratified KFold\n",
    "print('naive_bayes mean score on the original dataset (stratified kfold):', overall__stratified_score(naive_bayes, x_train))"
   ]
  },
  {
   "cell_type": "markdown",
   "metadata": {
    "colab_type": "text",
    "id": "AVkMvLssgMlb"
   },
   "source": [
    "### 5.6 Stacking \n",
    "> Stacking is an ensemble method where a new model learns how to best combine the predictions from multiple existing models."
   ]
  },
  {
   "cell_type": "markdown",
   "metadata": {
    "colab_type": "text",
    "id": "mn5SZ4viWZqb"
   },
   "source": [
    "#### 5.6.1 Stacked Averaged Model"
   ]
  },
  {
   "cell_type": "code",
   "execution_count": null,
   "metadata": {
    "colab": {},
    "colab_type": "code",
    "id": "RXQDxYyb_9Op"
   },
   "outputs": [],
   "source": [
    "class AveragingModels(BaseEstimator, RegressorMixin, TransformerMixin):\n",
    "    def __init__(self, models):\n",
    "        self.models = models\n",
    "        \n",
    "    # we define clones of the original models to fit the data in\n",
    "    def fit(self, x_train, y_train):\n",
    "        self.models_ = [clone(x) for x in self.models]\n",
    "        \n",
    "        # Train cloned base models\n",
    "        for model in self.models_:\n",
    "            model.fit(x_train, y_train)\n",
    "\n",
    "        return self\n",
    "    \n",
    "    #Now we do the predictions for cloned models and pick out the mode\n",
    "    def predict(self, x_train):\n",
    "        predictions = np.column_stack([\n",
    "            model.predict(x_train) for model in self.models_\n",
    "        ])\n",
    "        m = stats.mode(predictions, axis=1)\n",
    "        return m[0]"
   ]
  },
  {
   "cell_type": "code",
   "execution_count": null,
   "metadata": {
    "colab": {},
    "colab_type": "code",
    "id": "n4nBU2z6ABZA"
   },
   "outputs": [],
   "source": [
    "#averaging models and observing score change.\n",
    "averaged_models = AveragingModels(models = (forest, lgbm, cat))"
   ]
  },
  {
   "cell_type": "code",
   "execution_count": null,
   "metadata": {
    "colab": {},
    "colab_type": "code",
    "id": "VKhpOqz9_9TP"
   },
   "outputs": [],
   "source": [
    "# lets check its perfomance with no kfolds\n",
    "# on original dataset\n",
    "x_train, x_test, y_train, y_test = train_test_split(x, y, test_size = 0.10, random_state = 42)\n",
    "x_train, x_val, y_train, y_val = train_test_split(x_train ,y_train, test_size = 0.20, random_state = 42)\n",
    "\n",
    "averaged_models = averaged_models.fit(x_train, y_train)\n",
    "pred = averaged_models.predict(x_val)"
   ]
  },
  {
   "cell_type": "code",
   "execution_count": null,
   "metadata": {
    "colab": {
     "base_uri": "https://localhost:8080/",
     "height": 34
    },
    "colab_type": "code",
    "id": "Z9IIpGFPCtYx",
    "outputId": "9d8ea3d0-9c1b-480e-ff50-d1e4ed457c73"
   },
   "outputs": [
    {
     "data": {
      "text/plain": [
       "0.8423012615899073"
      ]
     },
     "execution_count": 52,
     "metadata": {
      "tags": []
     },
     "output_type": "execute_result"
    }
   ],
   "source": [
    "from sklearn.metrics import accuracy_score\n",
    "averaged_accuracy = accuracy_score(y_val.values, pred)\n",
    "averaged_accuracy"
   ]
  },
  {
   "cell_type": "code",
   "execution_count": null,
   "metadata": {
    "colab": {},
    "colab_type": "code",
    "id": "o0X1EkMtBDqG"
   },
   "outputs": [],
   "source": [
    "# save the models\n",
    "def save_zipped_pickle(obj, filename, protocol=-1):\n",
    "    with gzip.open(filename, 'wb') as f:\n",
    "        pickle.dump(obj, f, protocol)\n",
    "        \n",
    "save_zipped_pickle(regressor, 'cat.pkl')\n",
    "save_zipped_pickle(lgbm, 'lgbm.pkl')\n",
    "save_zipped_pickle(forest, 'forest.pkl')\n",
    "save_zipped_pickle(forest, 'mlp.pkl')\n",
    "save_zipped_pickle(averaged_models, 'averaged_models.pkl')\n",
    "\n",
    "\n",
    "# # reload zipped pickle\n",
    "# def load_zipped_pickle(filename):\n",
    "#     with gzip.open(filename, 'rb') as f:\n",
    "#         loaded_object = pickle.load(f)\n",
    "#         return loaded_object"
   ]
  },
  {
   "cell_type": "markdown",
   "metadata": {
    "colab_type": "text",
    "id": "DkPgLZMdWGyg"
   },
   "source": [
    "### 5.7 Support Vector Machines (rbf, poly, linear)\n",
    "> Support Vector Machine is a linear model for classification and regression problems. It can solve linear and non-linear problems. The idea of SVM is simple: The algorithm creates a line or a hyperplane which separates the data into classes."
   ]
  },
  {
   "cell_type": "markdown",
   "metadata": {
    "colab_type": "text",
    "id": "7pq0T7ZKjD6s"
   },
   "source": [
    "#### 5.7.1 Linear\n",
    "> LinearSVM is a linearly scalable routine meaning that it creates an SVM model in a CPU time which scales linearly with the size of the training data set"
   ]
  },
  {
   "cell_type": "code",
   "execution_count": null,
   "metadata": {
    "colab": {
     "base_uri": "https://localhost:8080/",
     "height": 52
    },
    "colab_type": "code",
    "id": "g6RpqasGWLQU",
    "outputId": "4cdad11a-53b0-4d8b-c0c2-9379d794bc86"
   },
   "outputs": [
    {
     "name": "stdout",
     "output_type": "stream",
     "text": [
      "LinearSVC mean score on the original dataset (kfold): 0.7425704268657516\n",
      "LinearSVC mean score on the original dataset (stratified kfold): 0.7426654658248641\n"
     ]
    }
   ],
   "source": [
    "# linear\n",
    "ls =  LinearSVC(tol=1e-5)\n",
    "\n",
    "# using kfolds\n",
    "print('LinearSVC mean score on the original dataset (kfold):', overall_score(ls, x_train))\n",
    "# stratified KFold\n",
    "print('LinearSVC mean score on the original dataset (stratified kfold):', overall__stratified_score(ls, x_train))"
   ]
  },
  {
   "cell_type": "markdown",
   "metadata": {
    "colab_type": "text",
    "id": "KbzoA0itjH7u"
   },
   "source": [
    "#### 5.7.2 rbf"
   ]
  },
  {
   "cell_type": "code",
   "execution_count": null,
   "metadata": {
    "colab": {},
    "colab_type": "code",
    "id": "DronTrO4jKs2"
   },
   "outputs": [],
   "source": [
    "# # rbf\n",
    "# rbf =  SVC(kernel = 'rbf')\n",
    "\n",
    "# # using kfolds\n",
    "# print('rbf mean score on the original dataset (kfold):', overall_score(rbf, x_train))\n",
    "# # stratified KFold\n",
    "# print('rbf mean score on the original dataset (stratified kfold):', overall__stratified_score(rbf, x_train))"
   ]
  },
  {
   "cell_type": "markdown",
   "metadata": {
    "colab_type": "text",
    "id": "4ZYrtI0OjK2K"
   },
   "source": [
    "#### 5.7.2 poly"
   ]
  },
  {
   "cell_type": "code",
   "execution_count": null,
   "metadata": {
    "colab": {},
    "colab_type": "code",
    "id": "Kwsc2DX_jLAB"
   },
   "outputs": [],
   "source": [
    "# # poly\n",
    "# poly =  SVC(kernel = 'poly')\n",
    "\n",
    "# # using kfolds\n",
    "# print('poly mean score on the original dataset (kfold):', overall_score(poly, x_train))\n",
    "# # stratified KFold\n",
    "# print('poly mean score on the original dataset (stratified kfold):', overall__stratified_score(poly, x_train))"
   ]
  },
  {
   "cell_type": "markdown",
   "metadata": {
    "colab_type": "text",
    "id": "iN486lX-8iUC"
   },
   "source": [
    "## 7 Evaluation\n",
    "Model evaluation is necessary to determine how well the model will perform in carrying out predictions.\n",
    "\n",
    "Metrics:\n",
    "1. **ROC** - ROC curve is a plot of the false positive rate (x-axis) versus the true positive rate (y-axis) for a number of different candidate threshold values between 0.0 and 1.0. \n",
    "\n",
    "2. **F1 SCORE** -  F1 score (also F-score or F-measure) is a measure of a test's accuracy. It is calculated from the precision and recall of the test, where the precision is the number of correctly identified positive results divided by the number of all positive results, including those not identified correctly, and the recall is the number of correctly identified positive results divided by the number of all samples that should have been identified as positive. \n",
    "\n",
    "3. **PRECISION AND RECALL**.\n",
    "\n",
    "\n",
    "> ROC curves should be used when there are roughly equal numbers of observations for each class.\n",
    "Precision-Recall curves should be used when there is a moderate to large class imbalance.\n",
    "\n",
    "> Since we resampled our data to be balanced, ROC is our best take.\n",
    "\n",
    "\n"
   ]
  },
  {
   "cell_type": "code",
   "execution_count": null,
   "metadata": {
    "colab": {},
    "colab_type": "code",
    "id": "JGUU2mY4F8AY"
   },
   "outputs": [],
   "source": [
    "# predictions\n",
    "x_train, x_test, y_train, y_test = train_test_split(x, y, test_size = 0.10, random_state = 42)\n",
    "x_train, x_val, y_train, y_val = train_test_split(x_train ,y_train, test_size = 0.20, random_state = 42)\n",
    "\n",
    "\n",
    "cat = cat.fit(x_train, y_train)\n",
    "c_pred = cat.predict(x_val)\n",
    "forest = forest.fit(x_train, y_train)\n",
    "f_pred = forest.predict(x_val)\n",
    "lgbm = lgbm.fit(x_train, y_train)\n",
    "l_pred = lgbm.predict(x_val)\n",
    "avg_pred = averaged_models.predict(x_val)"
   ]
  },
  {
   "cell_type": "markdown",
   "metadata": {
    "colab_type": "text",
    "id": "0-oX5x-z8nwp"
   },
   "source": [
    "### 7.1 ROC"
   ]
  },
  {
   "cell_type": "code",
   "execution_count": null,
   "metadata": {
    "colab": {
     "base_uri": "https://localhost:8080/",
     "height": 527
    },
    "colab_type": "code",
    "id": "Pz7V0e3r9KHg",
    "outputId": "a6a8a920-f5f9-432c-bdd7-9ce8bcc1f8d3"
   },
   "outputs": [
    {
     "name": "stdout",
     "output_type": "stream",
     "text": [
      "RandomForest: 0.9938778824545019\n",
      "CatBoost:  0.9145060440126584\n",
      "LGBM: 0.8704989314766184\n"
     ]
    },
    {
     "data": {
      "text/plain": [
       "Text(0, 0.5, 'True Positive Rate')"
      ]
     },
     "execution_count": 76,
     "metadata": {
      "tags": []
     },
     "output_type": "execute_result"
    },
    {
     "data": {
      "image/png": "[encoded data removed]",
      "text/plain": [
       "<Figure size 864x504 with 1 Axes>"
      ]
     },
     "metadata": {
      "needs_background": "light",
      "tags": []
     },
     "output_type": "display_data"
    }
   ],
   "source": [
    "from sklearn.datasets import make_classification\n",
    "from sklearn.metrics import roc_curve\n",
    "from sklearn.metrics import roc_auc_score\n",
    "\n",
    "#predict probabilities\n",
    "ns_probs = [0 for _ in range(len(x_val))]  # no skill classifier\n",
    "f_prob = forest.predict_proba(x_val)\n",
    "c_prob = cat.predict_proba(x_val) \n",
    "l_prob = lgbm.predict_proba(x_val)\n",
    "\n",
    "# keep probabilities for the positive outcome only\n",
    "f_prob = f_prob[:, 1]\n",
    "c_prob = c_prob[:, 1]\n",
    "l_prob = l_prob[:, 1]\n",
    "\n",
    "# calculate scores then print them\n",
    "f_auc = roc_auc_score(y_val, f_prob)\n",
    "c_auc = roc_auc_score(y_val, c_prob)\n",
    "l_auc = roc_auc_score(y_val, l_prob)\n",
    "ns_auc = roc_auc_score(y_val, ns_probs)\n",
    "print('RandomForest:', f_auc)\n",
    "print('CatBoost: ', c_auc)\n",
    "print('LGBM:', l_auc)\n",
    "\n",
    "# calculate roc curves\n",
    "f_fpr, f_tpr, _ = roc_curve(y_val, f_prob)\n",
    "c_fpr, c_tpr, _ = roc_curve(y_val, c_prob)\n",
    "l_fpr, l_tpr, _ = roc_curve(y_val, l_prob)\n",
    "ns_fpr, ns_tpr, _ = roc_curve(y_val, ns_probs)\n",
    "\n",
    "# plot the roc curve for the model\n",
    "plt.figure(figsize = (12,7))\n",
    "plt.plot(f_fpr, f_tpr, marker='.', label='random forest')\n",
    "plt.plot(l_fpr, l_tpr, marker='.', label='lgbm')\n",
    "plt.plot(c_fpr, c_tpr, marker='.', label='catboost')\n",
    "plt.plot(ns_fpr, ns_tpr, linestyle='--', label='No Skill')\n",
    "\n",
    "plt.legend()\n",
    "plt.title('ROC curves for different models')\n",
    "plt.xlabel('False Positive Rate')\n",
    "plt.ylabel('True Positive Rate')"
   ]
  },
  {
   "cell_type": "markdown",
   "metadata": {
    "colab_type": "text",
    "id": "7eGivWIRB4XL"
   },
   "source": [
    "Like the accuracy scores, Random Forest classifier performs best. (Makes me think the model is overfitting though).\n",
    "\n",
    "A no-skill classifier is one that cannot discriminate between the classes and would predict a random class or a constant class in all cases. (Our benchmark)."
   ]
  },
  {
   "cell_type": "markdown",
   "metadata": {
    "colab_type": "text",
    "id": "sF_55I-b9KRy"
   },
   "source": [
    "### 7.2 F1 Score"
   ]
  },
  {
   "cell_type": "code",
   "execution_count": null,
   "metadata": {
    "colab": {
     "base_uri": "https://localhost:8080/",
     "height": 86
    },
    "colab_type": "code",
    "id": "YOI0r5Ij9NJO",
    "outputId": "b9d52b42-79bb-4afb-97c8-ebaf03426bfd"
   },
   "outputs": [
    {
     "name": "stdout",
     "output_type": "stream",
     "text": [
      "cat: 0.8243492190628756\n",
      "forest: 0.9604511389775173\n",
      "lgbm: 0.7518515365625266\n",
      "averaged_models: 0.8327287384119307\n"
     ]
    }
   ],
   "source": [
    "print('cat:', f1_score(c_pred, y_val))\n",
    "print('forest:', f1_score(f_pred, y_val))\n",
    "print('lgbm:', f1_score(l_pred, y_val))\n",
    "print('averaged_models:', f1_score(avg_pred, y_val))"
   ]
  },
  {
   "cell_type": "markdown",
   "metadata": {
    "colab_type": "text",
    "id": "TlRxcj8f9NUM"
   },
   "source": [
    "### 7.3 Precision and Recall"
   ]
  },
  {
   "cell_type": "code",
   "execution_count": null,
   "metadata": {
    "colab": {
     "base_uri": "https://localhost:8080/",
     "height": 86
    },
    "colab_type": "code",
    "id": "8Cx3l1aLJFZR",
    "outputId": "3e4f3950-7fd2-454a-d947-012294ae9b4f"
   },
   "outputs": [
    {
     "name": "stdout",
     "output_type": "stream",
     "text": [
      "precision: 0.8353606863292833\n",
      "recall: 0.8327894876183073\n",
      "fscore: 0.8328961770247499\n",
      "support: 6579\n"
     ]
    }
   ],
   "source": [
    "# cat boost\n",
    "precision, recall, fscore, support = score(y_val, c_pred)\n",
    "\n",
    "print('precision: {}'.format(mean(precision)))\n",
    "print('recall: {}'.format(mean(recall)))\n",
    "print('fscore: {}'.format(mean(fscore)))\n",
    "print('support: {}'.format(mean(support)))"
   ]
  },
  {
   "cell_type": "code",
   "execution_count": null,
   "metadata": {
    "colab": {
     "base_uri": "https://localhost:8080/",
     "height": 86
    },
    "colab_type": "code",
    "id": "vNdG6TMuMoeL",
    "outputId": "3f088c85-162b-4e5d-eed3-ca7ae6f0b820"
   },
   "outputs": [
    {
     "name": "stdout",
     "output_type": "stream",
     "text": [
      "precision: 0.9617019312570101\n",
      "recall: 0.9600036311840093\n",
      "fscore: 0.959468501181258\n",
      "support: 6579\n"
     ]
    }
   ],
   "source": [
    "# forest\n",
    "precision, recall, fscore, support = score(y_val, f_pred)\n",
    "\n",
    "print('precision: {}'.format(mean(precision)))\n",
    "print('recall: {}'.format(mean(recall)))\n",
    "print('fscore: {}'.format(mean(fscore)))\n",
    "print('support: {}'.format(mean(support)))"
   ]
  },
  {
   "cell_type": "code",
   "execution_count": null,
   "metadata": {
    "colab": {
     "base_uri": "https://localhost:8080/",
     "height": 86
    },
    "colab_type": "code",
    "id": "VjdAS3jXMox0",
    "outputId": "889a5ba9-dfb9-42e8-88af-add44a3639a7"
   },
   "outputs": [
    {
     "name": "stdout",
     "output_type": "stream",
     "text": [
      "precision: 0.7887290012566746\n",
      "recall: 0.7771402408602204\n",
      "fscore: 0.7758845849467859\n",
      "support: 6579\n"
     ]
    }
   ],
   "source": [
    "# lgbm\n",
    "precision, recall, fscore, support = score(y_val, l_pred)\n",
    "\n",
    "print('precision: {}'.format(mean(precision)))\n",
    "print('recall: {}'.format(mean(recall)))\n",
    "print('fscore: {}'.format(mean(fscore)))\n",
    "print('support: {}'.format(mean(support)))"
   ]
  },
  {
   "cell_type": "code",
   "execution_count": null,
   "metadata": {
    "colab": {
     "base_uri": "https://localhost:8080/",
     "height": 86
    },
    "colab_type": "code",
    "id": "JkydQK2gMuNq",
    "outputId": "1c369c19-400c-42da-9f5c-5c19e987b27a"
   },
   "outputs": [
    {
     "name": "stdout",
     "output_type": "stream",
     "text": [
      "precision: 0.8451168471273891\n",
      "recall: 0.8416759058046743\n",
      "fscore: 0.84178310258243\n",
      "support: 6579\n"
     ]
    }
   ],
   "source": [
    "# averaged\n",
    "precision, recall, fscore, support = score(y_val, avg_pred)\n",
    "\n",
    "print('precision: {}'.format(mean(precision)))\n",
    "print('recall: {}'.format(mean(recall)))\n",
    "print('fscore: {}'.format(mean(fscore)))\n",
    "print('support: {}'.format(mean(support)))"
   ]
  },
  {
   "cell_type": "markdown",
   "metadata": {
    "colab_type": "text",
    "id": "wEzKsQSfCVXf"
   },
   "source": [
    "Random forest has the highest precision, recall and fscore in comparison to the best models evaluated. It's accuracy is through the roof making one think of overfitting. So we're gonna run predictions using the randomforest and the averaged model."
   ]
  },
  {
   "cell_type": "markdown",
   "metadata": {
    "colab_type": "text",
    "id": "vdIc8FqSC-7T"
   },
   "source": [
    "## 8. Prediction"
   ]
  },
  {
   "cell_type": "code",
   "execution_count": null,
   "metadata": {
    "colab": {
     "base_uri": "https://localhost:8080/",
     "height": 241
    },
    "colab_type": "code",
    "id": "DhEyg-1dDCuj",
    "outputId": "5ca9e9d5-73e3-4539-cd39-46d2424abe93"
   },
   "outputs": [
    {
     "name": "stdout",
     "output_type": "stream",
     "text": [
      "(7310, 68)\n",
      "(7310, 1)\n"
     ]
    },
    {
     "data": {
      "text/html": [
       "<div>\n",
       "<style scoped>\n",
       "    .dataframe tbody tr th:only-of-type {\n",
       "        vertical-align: middle;\n",
       "    }\n",
       "\n",
       "    .dataframe tbody tr th {\n",
       "        vertical-align: top;\n",
       "    }\n",
       "\n",
       "    .dataframe thead th {\n",
       "        text-align: right;\n",
       "    }\n",
       "</style>\n",
       "<table border=\"1\" class=\"dataframe\">\n",
       "  <thead>\n",
       "    <tr style=\"text-align: right;\">\n",
       "      <th></th>\n",
       "      <th>y</th>\n",
       "    </tr>\n",
       "  </thead>\n",
       "  <tbody>\n",
       "    <tr>\n",
       "      <th>0</th>\n",
       "      <td>0</td>\n",
       "    </tr>\n",
       "    <tr>\n",
       "      <th>1</th>\n",
       "      <td>1</td>\n",
       "    </tr>\n",
       "    <tr>\n",
       "      <th>2</th>\n",
       "      <td>1</td>\n",
       "    </tr>\n",
       "    <tr>\n",
       "      <th>3</th>\n",
       "      <td>0</td>\n",
       "    </tr>\n",
       "    <tr>\n",
       "      <th>4</th>\n",
       "      <td>0</td>\n",
       "    </tr>\n",
       "  </tbody>\n",
       "</table>\n",
       "</div>"
      ],
      "text/plain": [
       "   y\n",
       "0  0\n",
       "1  1\n",
       "2  1\n",
       "3  0\n",
       "4  0"
      ]
     },
     "execution_count": 78,
     "metadata": {
      "tags": []
     },
     "output_type": "execute_result"
    }
   ],
   "source": [
    "# Random Forest\n",
    "pred = forest.predict(x_test)\n",
    "pred_df = pd.DataFrame(pred)\n",
    "pred_df.columns = ['y']\n",
    "print(x_test.shape)\n",
    "print(pred_df.shape)\n",
    "pred_df.head()"
   ]
  },
  {
   "cell_type": "code",
   "execution_count": null,
   "metadata": {
    "colab": {
     "base_uri": "https://localhost:8080/",
     "height": 86
    },
    "colab_type": "code",
    "id": "w0IdctS0DbHT",
    "outputId": "acafab08-0694-4634-d6f9-c68a34db96d5"
   },
   "outputs": [
    {
     "name": "stdout",
     "output_type": "stream",
     "text": [
      "precision: 0.9608525296205217\n",
      "recall: 0.958267537528031\n",
      "fscore: 0.9580856917744027\n",
      "support: 3655\n"
     ]
    }
   ],
   "source": [
    "precision, recall, fscore, support = score(y_test, pred)\n",
    "\n",
    "print('precision: {}'.format(mean(precision)))\n",
    "print('recall: {}'.format(mean(recall)))\n",
    "print('fscore: {}'.format(mean(fscore)))\n",
    "print('support: {}'.format(mean(support)))"
   ]
  },
  {
   "cell_type": "markdown",
   "metadata": {
    "colab_type": "text",
    "id": "Y1FgEuOLDjFo"
   },
   "source": [
    "Accuracy just as we expected."
   ]
  },
  {
   "cell_type": "code",
   "execution_count": null,
   "metadata": {
    "colab": {},
    "colab_type": "code",
    "id": "utoRp_NuSW_M"
   },
   "outputs": [],
   "source": [
    "# averaged model\n",
    "pred = averaged_models.predict(x_test)\n",
    "pred_df_avg = pd.DataFrame(pred)\n",
    "pred_df_avg.columns = ['y']\n",
    "pred_df_avg.to_csv('pred_df_avg.csv')"
   ]
  }
 ],
 "metadata": {
  "colab": {
   "collapsed_sections": [],
   "name": "BankOfPortugal.ipynb",
   "provenance": [],
   "toc_visible": true
  },
  "kernelspec": {
   "display_name": "Python 3",
   "language": "python",
   "name": "python3"
  },
  "language_info": {
   "codemirror_mode": {
    "name": "ipython",
    "version": 3
   },
   "file_extension": ".py",
   "mimetype": "text/x-python",
   "name": "python",
   "nbconvert_exporter": "python",
   "pygments_lexer": "ipython3",
   "version": "3.7.4"
  }
 },
 "nbformat": 4,
 "nbformat_minor": 4
}
